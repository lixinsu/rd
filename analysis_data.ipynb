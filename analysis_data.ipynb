{
 "cells": [
  {
   "cell_type": "code",
   "execution_count": 8,
   "metadata": {},
   "outputs": [],
   "source": [
    "from preprocess_data import *\n",
    "from config import config_base\n",
    "import time\n",
    "import utils\n",
    "import pandas as pd\n",
    "from data_pre import title_question\n",
    "config = config_base.config"
   ]
  },
  {
   "cell_type": "code",
   "execution_count": 19,
   "metadata": {
    "collapsed": true
   },
   "outputs": [],
   "source": [
    "df = organize_data(config.train_data)"
   ]
  },
  {
   "cell_type": "code",
   "execution_count": 21,
   "metadata": {},
   "outputs": [],
   "source": [
    "df = df[df['article_title'] == '《防务简报》2017年第8期']\n",
    "df = df[df['question_type'] == '事实型问题']"
   ]
  },
  {
   "cell_type": "code",
   "execution_count": 22,
   "metadata": {},
   "outputs": [
    {
     "data": {
      "text/html": [
       "<div>\n",
       "<style>\n",
       "    .dataframe thead tr:only-child th {\n",
       "        text-align: right;\n",
       "    }\n",
       "\n",
       "    .dataframe thead th {\n",
       "        text-align: left;\n",
       "    }\n",
       "\n",
       "    .dataframe tbody tr th {\n",
       "        vertical-align: top;\n",
       "    }\n",
       "</style>\n",
       "<table border=\"1\" class=\"dataframe\">\n",
       "  <thead>\n",
       "    <tr style=\"text-align: right;\">\n",
       "      <th></th>\n",
       "      <th>article_id</th>\n",
       "      <th>article_type</th>\n",
       "      <th>article_title</th>\n",
       "      <th>article_content</th>\n",
       "      <th>question_id</th>\n",
       "      <th>article_question</th>\n",
       "      <th>article_answer</th>\n",
       "      <th>question_type</th>\n",
       "    </tr>\n",
       "  </thead>\n",
       "  <tbody>\n",
       "    <tr>\n",
       "      <th>53796</th>\n",
       "      <td>51293</td>\n",
       "      <td>防务快讯</td>\n",
       "      <td>《防务简报》2017年第8期</td>\n",
       "      <td>防务简报  2017 年第 8 期 28 所科技情报研究中心 总第 479 期 2017 年...</td>\n",
       "      <td>7529553f-ef6a-416b-bfd8-6ced5fb5de94</td>\n",
       "      <td>这篇新闻的来源？</td>\n",
       "      <td>《防务简报》</td>\n",
       "      <td>事实型问题</td>\n",
       "    </tr>\n",
       "  </tbody>\n",
       "</table>\n",
       "</div>"
      ],
      "text/plain": [
       "      article_id article_type   article_title  \\\n",
       "53796      51293         防务快讯  《防务简报》2017年第8期   \n",
       "\n",
       "                                         article_content  \\\n",
       "53796  防务简报  2017 年第 8 期 28 所科技情报研究中心 总第 479 期 2017 年...   \n",
       "\n",
       "                                question_id article_question article_answer  \\\n",
       "53796  7529553f-ef6a-416b-bfd8-6ced5fb5de94         这篇新闻的来源？         《防务简报》   \n",
       "\n",
       "      question_type  \n",
       "53796         事实型问题  "
      ]
     },
     "execution_count": 22,
     "metadata": {},
     "output_type": "execute_result"
    }
   ],
   "source": [
    "df"
   ]
  },
  {
   "cell_type": "code",
   "execution_count": 23,
   "metadata": {},
   "outputs": [],
   "source": [
    "title = df['article_title'].values[0]\n",
    "content = df['article_content'].values[0]\n",
    "question = df['article_question'].values[0]"
   ]
  },
  {
   "cell_type": "code",
   "execution_count": 44,
   "metadata": {},
   "outputs": [
    {
     "data": {
      "text/plain": [
       "'这篇新闻的来源？'"
      ]
     },
     "execution_count": 44,
     "metadata": {},
     "output_type": "execute_result"
    }
   ],
   "source": [
    "question"
   ]
  },
  {
   "cell_type": "code",
   "execution_count": null,
   "metadata": {
    "collapsed": true
   },
   "outputs": [],
   "source": [
    "df[]"
   ]
  },
  {
   "cell_type": "code",
   "execution_count": 43,
   "metadata": {},
   "outputs": [
    {
     "name": "stdout",
     "output_type": "stream",
     "text": [
      "xx\n",
      "aa\n"
     ]
    },
    {
     "data": {
      "text/plain": [
       "'  参考文献 [1] 梁海燕．以色列导弹防御系统部署现状及未来发展．飞航导弹，2011(12) [2] 以色列成功测试反导系统．http：／／news．xinhuanet．com／world／2009-04／07／content_11145228．html．新华网，2009-4-7 [3] 亚敏．以色列“铁穹”防御系统．http：／／news．163．com／12／1126／08／8H7MGC5S00014AED．html．网易新闻中心，2012-11-26 [4] 韩旭阳．以色列“铁穹”系统成功拦截加沙200余火箭弹．http：／／news．xinhuanet．com/world／2012-11／25／c_123998093．htm．中国新闻网，2012-11-25 [5] William Booth．Israel deploys Iron Dome defense system ahead of possible U．S．strike on Syria．http：／／articles．washingtonpost．com／2013-08-30／world／41608720_1-israeli-oeeupied-golan-heights-assad-s-allies-syria．The Washingtonpost．2013-8-30 [6] Rafael expands air and missile defense family of weapons http：／／defense-update．com／features／2008／june08／rafael_air_defense．htm．Defense Update．2008．8 [7] 钱钱，谢慧敏．美国以色列联合研制大卫投石索导弹防御系统．http：／／www．spacechina．com／n25／n144／n208／n232／c97740／content．html．中国航天科技集团网站，2008-8-1353  [8] Terminal missile defense interceptor．http：／／WWW．rafael．co．il／Marketing/186-1607-en／Marketing．aspx．Rafael Advance Defense Systems Ltd．2010 [9] 以色列的三只“箭”有何不同．http：／／www,．chinanews．com／mil/2014／12-18／6889420．shtml．中国新闻网，2014-12-18 [10] 以色列箭3反导系统拦截测试首次取得成功http：／／news．xinhuanet．com／2015-12／13／c_134907353．htm '"
      ]
     },
     "execution_count": 43,
     "metadata": {},
     "output_type": "execute_result"
    }
   ],
   "source": [
    "match(title, content, question, 500)"
   ]
  },
  {
   "cell_type": "code",
   "execution_count": 7,
   "metadata": {},
   "outputs": [
    {
     "data": {
      "text/plain": [
       "90"
      ]
     },
     "execution_count": 7,
     "metadata": {},
     "output_type": "execute_result"
    }
   ],
   "source": [
    "min(contents_len)"
   ]
  },
  {
   "cell_type": "code",
   "execution_count": null,
   "metadata": {
    "collapsed": true
   },
   "outputs": [],
   "source": []
  },
  {
   "cell_type": "code",
   "execution_count": 10,
   "metadata": {},
   "outputs": [],
   "source": [
    "df = pd.read_csv('data_gen/merge_500_val.csv')"
   ]
  },
  {
   "cell_type": "code",
   "execution_count": 26,
   "metadata": {
    "collapsed": true
   },
   "outputs": [],
   "source": [
    "import sys\n",
    "from rouge import Rouge"
   ]
  },
  {
   "cell_type": "code",
   "execution_count": 27,
   "metadata": {
    "collapsed": true
   },
   "outputs": [],
   "source": [
    "sys.setrecursionlimit(1000000)\n",
    "rouge = Rouge(metrics=['rouge-l'])"
   ]
  },
  {
   "cell_type": "code",
   "execution_count": 42,
   "metadata": {
    "collapsed": true
   },
   "outputs": [],
   "source": [
    "    def match(title, content, question, max_len):\n",
    "\n",
    "        title_is_zh = utils.is_zh_or_en(title)\n",
    "        content_is_zh = utils.is_zh_or_en(content)\n",
    "\n",
    "        if title_is_zh:\n",
    "            title_list = utils.split_word_zh(title)\n",
    "        else:\n",
    "            title = title.lower()\n",
    "            title_list = utils.split_word_en(title)\n",
    "\n",
    "        def count(flag, content_list):\n",
    "            \"\"\" 查数 \"\"\"\n",
    "            number = 0\n",
    "            for i in range(len(flag)):\n",
    "                if flag[i] != 0:\n",
    "                    number += len(content_list[i])+1\n",
    "            return number\n",
    "\n",
    "        # 过滤\n",
    "        if content_is_zh:\n",
    "            title_number = len(title_list)\n",
    "            content_number = len(utils.split_word_zh(content))\n",
    "            if (title_number + content_number + 1) <= max_len:\n",
    "                return content\n",
    "\n",
    "        if content_is_zh:\n",
    "            if '。' not in content:\n",
    "                c_list = utils.split_word_zh(content)\n",
    "                c_list = c_list[: config.max_len-len(title_list)-1]\n",
    "                return ''.join(c_list)\n",
    "\n",
    "            content_list = content.split('。')\n",
    "            temp = []\n",
    "            for c in content_list:\n",
    "                if c not in ['', ' ', '  ']:\n",
    "                    temp.append(c)\n",
    "            content_list = temp\n",
    "            content_list = [utils.split_word_zh(c) for c in content_list]\n",
    "            content_list = [title_list] + content_list\n",
    "            content_len = len(content_list)\n",
    "\n",
    "            if utils.is_zh_or_en(question):\n",
    "                question_list = utils.split_word_zh(question)\n",
    "            else:\n",
    "                question = question.lower()\n",
    "                question_list = utils.split_word_en(question)\n",
    "            question_str = ' '.join(question_list)\n",
    "\n",
    "            # 相似性得分: rouge-l\n",
    "            scores = []\n",
    "            for c in content_list:\n",
    "                if ''.join(c) in question:\n",
    "                    scores.append(-5)\n",
    "                    continue\n",
    "                c_str = ' '.join(c)\n",
    "                score = rouge.get_scores(c_str, question_str, avg=True)['rouge-l']['r']\n",
    "                scores.append(score)\n",
    "\n",
    "            # 标记类型\n",
    "            flag = np.zeros(content_len)\n",
    "            # title_number = len(utils.split_word_zh(title))\n",
    "            # max_len = max_len - title_number\n",
    "\n",
    "            # 核心句:\n",
    "            max_score = max(scores)\n",
    "            for i in range(content_len):\n",
    "                if scores[i] == max_score:\n",
    "                    flag[i] = -1\n",
    "\n",
    "            # 核心句下一句\n",
    "            for i in range(content_len):\n",
    "                if (flag[i] == -1) and (i+1 < content_len) and (flag[i+1] == 0):\n",
    "                    flag[i+1] = -2\n",
    "\n",
    "            # 最后一句\n",
    "            if flag[-1] == 0:\n",
    "                flag[-1] = -3\n",
    "\n",
    "            # 第一句\n",
    "            if flag[1] == 0:\n",
    "                flag[1] = -4\n",
    "\n",
    "            # 蕴含句（上+中+下）\n",
    "            for i in range(content_len):\n",
    "                if scores[i] == -5:\n",
    "                    if (i-1 >= 0) and (flag[i-1] == 0):\n",
    "                        flag[i-1] = -5\n",
    "                    if flag[i] == 0:\n",
    "                        flag[i] = -5\n",
    "                    if (i+1 < content_len) and (flag[i+1] == 0):\n",
    "                        flag[i+1] = -5\n",
    "\n",
    "            # 核心句下下句\n",
    "            for i in range(content_len):\n",
    "                if (flag[i] == -1) and (i+2 < content_len) and (flag[i+2] == 0):\n",
    "                    flag[i+2] = -6\n",
    "\n",
    "            # 核心句上一句\n",
    "            for i in range(content_len):\n",
    "                if (flag[i] == -1) and (i-1 >= 0) and (flag[i-1] == 0):\n",
    "                    flag[i-1] = -7\n",
    "\n",
    "            # 核心句下下下句\n",
    "            for i in range(content_len):\n",
    "                if (flag[i] == -1) and (i+3 < content_len) and (flag[i+3] == 0):\n",
    "                    flag[i+3] = -8\n",
    "\n",
    "            # 核心句上上句\n",
    "            for i in range(content_len):\n",
    "                if (flag[i] == -1) and (i-2 >= 0) and (flag[i-2] == 0):\n",
    "                    flag[i-2] = -9\n",
    "\n",
    "            # 倒数第二句\n",
    "            if(len(flag) >= 3) and (flag[-2] == 0):\n",
    "                flag[-2] = -10\n",
    "\n",
    "            # 第二句\n",
    "            if (len(flag) >= 3) and (flag[2] == 0):\n",
    "                flag[2] = -11\n",
    "\n",
    "            flag[0] = 0\n",
    "            number = count(flag, content_list)\n",
    "            max_len = max_len - len(title_list)\n",
    "            result = []\n",
    "            if number <= max_len:\n",
    "                for i in range(content_len):\n",
    "                    if flag[i] != 0:\n",
    "                        result.append(''.join(content_list[i]))\n",
    "            else:\n",
    "                print('xx')\n",
    "                flag_copy = np.zeros(content_len)\n",
    "                c_count = 0\n",
    "                xxx = True\n",
    "                for i in range(-1, -12, -1):\n",
    "                    for j in range(len(flag)):\n",
    "                        if flag[j] == i:\n",
    "                            c_count = c_count + len(content_list[j]) + 1\n",
    "                            if c_count <= max_len:\n",
    "                                flag_copy[j] = -1\n",
    "                            else:\n",
    "                                xxx = False\n",
    "                                break\n",
    "                    if xxx is False:\n",
    "                        break\n",
    "\n",
    "                for i in range(content_len):\n",
    "                    if flag_copy[i] == -1:\n",
    "                        result.append(''.join(content_list[i]))\n",
    "                if len(result) == 0:\n",
    "                    print('aa')\n",
    "                    for j in range(len(flag)):\n",
    "                        if flag[j] == -1:\n",
    "                            result = [''.join(content_list[j][: max_len-1])]\n",
    "                            break\n",
    "\n",
    "            # 过滤重复\n",
    "            temp = []\n",
    "            for r in result:\n",
    "                if r not in temp:\n",
    "                    temp.append(r)\n",
    "            result = temp\n",
    "\n",
    "            return '。'.join(result)\n",
    "\n",
    "        else:\n",
    "            www = content.lower()\n",
    "            words = utils.split_word_en(www)\n",
    "            if (len(words) + len(title_list) + 1) <= config.max_len:\n",
    "                return content\n",
    "            else:\n",
    "                index = 0\n",
    "                for i in words[: config.max_len-len(title_list)-1]:\n",
    "                    index = index + len(i) + 1\n",
    "\n",
    "                try:\n",
    "                    while content[index-1] != ' ':\n",
    "                        index -= 1\n",
    "                except:\n",
    "                    print(index)\n",
    "                    print(content)\n",
    "\n",
    "                return content[: index-1]"
   ]
  }
 ],
 "metadata": {
  "kernelspec": {
   "display_name": "Python 3",
   "language": "python",
   "name": "python3"
  },
  "language_info": {
   "codemirror_mode": {
    "name": "ipython",
    "version": 3
   },
   "file_extension": ".py",
   "mimetype": "text/x-python",
   "name": "python",
   "nbconvert_exporter": "python",
   "pygments_lexer": "ipython3",
   "version": "3.6.2"
  }
 },
 "nbformat": 4,
 "nbformat_minor": 2
}
