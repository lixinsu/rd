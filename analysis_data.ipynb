{
 "cells": [
  {
   "cell_type": "code",
   "execution_count": 2,
   "metadata": {
    "collapsed": true
   },
   "outputs": [],
   "source": [
    "import json\n",
    "from rouge import Rouge\n",
    "import os\n",
    "import pandas as pd\n",
    "import numpy as np\n",
    "import copy\n",
    "import jieba\n",
    "from jieba import posseg\n",
    "import pickle\n",
    "import sys\n",
    "import re\n",
    "from preprocess_data import *\n",
    "import logging\n",
    "import gensim\n",
    "from gensim.models.word2vec import LineSentence\n",
    "from sklearn import model_selection\n",
    "from config import config_base\n",
    "import vocab\n",
    "config = config_base.config"
   ]
  },
  {
   "cell_type": "code",
   "execution_count": 4,
   "metadata": {},
   "outputs": [
    {
     "name": "stderr",
     "output_type": "stream",
     "text": [
      "Building prefix dict from the default dictionary ...\n",
      "Loading model from cache /tmp/jieba.cache\n",
      "Loading model cost 0.479 seconds.\n",
      "Prefix dict has been built succesfully.\n"
     ]
    },
    {
     "name": "stdout",
     "output_type": "stream",
     "text": [
      "shorten content, accuracy: 0.9674\n",
      "max length: 300\n",
      "min length: 2\n",
      "mean length:180\n",
      "median length:175\n"
     ]
    }
   ],
   "source": [
    "df= organize_data(config.train_data)\n",
    "df = deal_data(df)\n",
    "df = df.sample(5000)\n",
    "df = shorten_content_all(df, config.max_len)"
   ]
  },
  {
   "cell_type": "code",
   "execution_count": 3,
   "metadata": {},
   "outputs": [
    {
     "data": {
      "text/plain": [
       "False"
      ]
     },
     "execution_count": 3,
     "metadata": {},
     "output_type": "execute_result"
    }
   ],
   "source": [
    "a.requires_grad"
   ]
  },
  {
   "cell_type": "code",
   "execution_count": 25,
   "metadata": {},
   "outputs": [
    {
     "name": "stdout",
     "output_type": "stream",
     "text": [
      "shorten content, accuracy: 0.9618\n",
      "max length: 300\n",
      "min length: 2\n",
      "mean length:189\n",
      "median length:185\n"
     ]
    }
   ],
   "source": [
    "df= organize_data(config.train_data)\n",
    "df = deal_data(df)\n",
    "df = df.sample(5000)\n",
    "df = shorten_content_fix(df, config.max_len)"
   ]
  },
  {
   "cell_type": "code",
   "execution_count": null,
   "metadata": {
    "collapsed": true
   },
   "outputs": [],
   "source": []
  },
  {
   "cell_type": "code",
   "execution_count": null,
   "metadata": {
    "collapsed": true
   },
   "outputs": [],
   "source": []
  },
  {
   "cell_type": "code",
   "execution_count": null,
   "metadata": {
    "collapsed": true
   },
   "outputs": [],
   "source": []
  },
  {
   "cell_type": "code",
   "execution_count": 22,
   "metadata": {},
   "outputs": [
    {
     "name": "stdout",
     "output_type": "stream",
     "text": [
      "Model loaded succeed\n"
     ]
    }
   ],
   "source": [
    "import thulac\n",
    "thu1 = thulac.thulac(seg_only=True)"
   ]
  },
  {
   "cell_type": "code",
   "execution_count": 23,
   "metadata": {
    "collapsed": true
   },
   "outputs": [],
   "source": [
    "def cut(string):\n",
    "    tmp = thu1.cut(string)\n",
    "    a, b = zip(*tmp)\n",
    "    return a"
   ]
  },
  {
   "cell_type": "code",
   "execution_count": 24,
   "metadata": {
    "collapsed": true
   },
   "outputs": [],
   "source": [
    "def shorten_content_fix(df, max_len):\n",
    "    \"\"\"\n",
    "    :param df:\n",
    "    :param max_len:\n",
    "    :return: df\n",
    "    \"\"\"\n",
    "    sys.setrecursionlimit(1000000)\n",
    "    rouge = Rouge(metrics=['rouge-l'])\n",
    "\n",
    "    def match(title, content, question, max_len):\n",
    "\n",
    "        # 如果无法用'。'划分，直接返回 title\n",
    "        if '。' not in content:\n",
    "            return title\n",
    "\n",
    "        def count(flag, content_list):\n",
    "            \"\"\" 查数 \"\"\"\n",
    "            number = 0\n",
    "            for i in range(len(flag)):\n",
    "                if flag[i] != 0:\n",
    "                    number += len(content_list[i])+1\n",
    "            return number\n",
    "\n",
    "        # 过滤\n",
    "        content_list = content.split('。')\n",
    "        temp = []\n",
    "        for c in content_list:\n",
    "            if c not in ['', ' ', '  ']:\n",
    "                temp.append(c)\n",
    "        content_list = temp\n",
    "        content_list = [cut(c) for c in content_list]\n",
    "        content_len = len(content_list)\n",
    "\n",
    "        question_str = ' '.join(cut(question))\n",
    "\n",
    "        # 相似性得分: rouge-l\n",
    "        scores = []\n",
    "        for c in content_list:\n",
    "            if ''.join(c) in question:\n",
    "                scores.append(-5)\n",
    "                continue\n",
    "            c_str = ' '.join(c)\n",
    "            score = rouge.get_scores(c_str, question_str, avg=True)['rouge-l']['r']\n",
    "            scores.append(score)\n",
    "\n",
    "        # 标记类型\n",
    "        flag = np.zeros(content_len)\n",
    "        title_number = len(cut(title))\n",
    "        max_len = max_len - title_number\n",
    "        flag_result = flag.copy()\n",
    "\n",
    "        # 核心句:\n",
    "        max_score = max(scores)\n",
    "        for i in range(content_len):\n",
    "            if scores[i] == max_score:\n",
    "                flag[i] = -1\n",
    "        number = count(flag, content_list)\n",
    "        if number <= max_len:\n",
    "            flag_result = flag.copy()\n",
    "        else:\n",
    "            question_set = set(jieba.lcut(question, cut_all=True))\n",
    "            for j in range(content_len):\n",
    "                if flag[j] == -1:\n",
    "                    c = ''.join(content_list[j])\n",
    "                    c_set = set(jieba.lcut(c, cut_all=True))\n",
    "                    s = len(c_set & question_set)\n",
    "                    flag[j] = s\n",
    "            max_s = max(flag)\n",
    "            for j in range(content_len):\n",
    "                if flag[j] == max_s:\n",
    "                    flag_result[j] = -1\n",
    "\n",
    "            temp = []\n",
    "            c = 0\n",
    "            for j in range(content_len):\n",
    "                if flag_result[j] == -1:\n",
    "                    c += len(content_list[j]) + 1\n",
    "                    if c > max_len:\n",
    "                        break\n",
    "                    temp.append(''.join(content_list[j]))\n",
    "            result = [title] + temp\n",
    "\n",
    "            return '。'.join(result)\n",
    "\n",
    "        # 核心句下一句\n",
    "        if number <= max_len:\n",
    "            for i in range(content_len):\n",
    "                if (flag[i] == -1) and (i+1 < content_len) and (flag[i+1] == 0):\n",
    "                    flag[i+1] = -2\n",
    "            number = count(flag, content_list)\n",
    "            if number < max_len:\n",
    "                flag_result = flag.copy()\n",
    "\n",
    "        # 最后一句\n",
    "        if number < max_len:\n",
    "            if flag[-1] == 0:\n",
    "                flag[-1] = -3\n",
    "            number = count(flag, content_list)\n",
    "            if number < max_len:\n",
    "                flag_result = flag.copy()\n",
    "\n",
    "        # 第一句\n",
    "        if number < max_len:\n",
    "            if flag[0] == 0:\n",
    "                flag[0] = -4\n",
    "            number = count(flag, content_list)\n",
    "            if number < max_len:\n",
    "                flag_result = flag.copy()\n",
    "\n",
    "        # 蕴含句（上+中+下）\n",
    "        if number < max_len:\n",
    "            for i in range(content_len):\n",
    "                if scores[i] == -5:\n",
    "                    if (i-1 >= 0) and (flag[i-1] == 0):\n",
    "                        flag[i-1] = -5\n",
    "                    if flag[i] == 0:\n",
    "                        flag[i] = -5\n",
    "                    if (i+1 < content_len) and (flag[i+1] == 0):\n",
    "                        flag[i+1] = -5\n",
    "            number = count(flag, content_list)\n",
    "            if number < max_len:\n",
    "                flag_result = flag.copy()\n",
    "\n",
    "        # 核心句下下句\n",
    "        if number < max_len:\n",
    "            for i in range(content_len):\n",
    "                if (flag[i] == -1) and (i+2 < content_len) and (flag[i+2] == 0):\n",
    "                    flag[i+2] = -6\n",
    "            number = count(flag, content_list)\n",
    "            if number < max_len:\n",
    "                flag_result = flag.copy()\n",
    "\n",
    "        # 核心句上一句\n",
    "        if number < max_len:\n",
    "            for i in range(content_len):\n",
    "                if (flag[i] == -1) and (i-1 >= 0) and (flag[i-1] == 0):\n",
    "                    flag[i-1] = -7\n",
    "            number = count(flag, content_list)\n",
    "            if number < max_len:\n",
    "                flag_result = flag.copy()\n",
    "\n",
    "        # 核心句下下下句\n",
    "        if number < max_len:\n",
    "            for i in range(content_len):\n",
    "                if (flag[i] == -1) and (i+3 < content_len) and (flag[i+3] == 0):\n",
    "                    flag[i+3] = -8\n",
    "            number = count(flag, content_list)\n",
    "            if number < max_len:\n",
    "                flag_result = flag.copy()\n",
    "\n",
    "        # 核心句上上句\n",
    "        if number < max_len:\n",
    "            for i in range(content_len):\n",
    "                if (flag[i] == -1) and (i-2 >= 0) and (flag[i-1] == 0):\n",
    "                    flag[i-2] = -9\n",
    "            number = count(flag, content_list)\n",
    "            if number < max_len:\n",
    "                flag_result = flag.copy()\n",
    "\n",
    "        result = [title]\n",
    "        for i in range(content_len):\n",
    "            if flag_result[i] != 0:\n",
    "                result.append(''.join(content_list[i]))\n",
    "\n",
    "        # 过滤重复\n",
    "        temp = []\n",
    "        for r in result:\n",
    "            if r not in temp:\n",
    "                temp.append(r)\n",
    "        result = temp\n",
    "\n",
    "        return '。'.join(result)\n",
    "\n",
    "    titles = df['title'].values\n",
    "    contents = df['content'].values\n",
    "    questions = df['question'].values\n",
    "\n",
    "    merge = [match(t, c, q, max_len) for t, c, q in zip(titles, contents, questions)]\n",
    "    df['merge'] = merge\n",
    "\n",
    "    # 评估数据集构建效果\n",
    "    if 'answer' in df:\n",
    "        answers = df['answer'].values\n",
    "        is_in = [True if a in m else False for m, a in zip(merge, answers)]\n",
    "        df['is_in'] = is_in\n",
    "        print('shorten content, accuracy: %.4f' % (sum(is_in)/len(df)))\n",
    "\n",
    "    merge_len = [len(cut(m)) for m in merge]\n",
    "    df['len'] = merge_len\n",
    "    print('max length: %d' % max(merge_len))\n",
    "    print('min length: %d' % min(merge_len))\n",
    "    print('mean length:%d' % df['len'].mean())\n",
    "    print('median length:%d' % df['len'].median())\n",
    "\n",
    "    return df"
   ]
  },
  {
   "cell_type": "code",
   "execution_count": null,
   "metadata": {
    "collapsed": true
   },
   "outputs": [],
   "source": []
  },
  {
   "cell_type": "code",
   "execution_count": null,
   "metadata": {
    "collapsed": true
   },
   "outputs": [],
   "source": []
  }
 ],
 "metadata": {
  "kernelspec": {
   "display_name": "Python 3",
   "language": "python",
   "name": "python3"
  },
  "language_info": {
   "codemirror_mode": {
    "name": "ipython",
    "version": 3
   },
   "file_extension": ".py",
   "mimetype": "text/x-python",
   "name": "python",
   "nbconvert_exporter": "python",
   "pygments_lexer": "ipython3",
   "version": "3.6.2"
  }
 },
 "nbformat": 4,
 "nbformat_minor": 2
}
