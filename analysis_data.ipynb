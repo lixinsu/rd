{
 "cells": [
  {
   "cell_type": "code",
   "execution_count": 6,
   "metadata": {
    "collapsed": true
   },
   "outputs": [],
   "source": [
    "import torch\n",
    "from torch import nn \n",
    "import math"
   ]
  },
  {
   "cell_type": "code",
   "execution_count": 14,
   "metadata": {
    "collapsed": true
   },
   "outputs": [],
   "source": [
    "class PosEncoder(nn.Module):\n",
    "    def __init__(self, length, hidden_size):\n",
    "        super(PosEncoder, self).__init__()\n",
    "        freqs = torch.Tensor(\n",
    "            [10000 ** (-i / hidden_size) if i % 2 == 0 else -10000 ** ((1 - i) / hidden_size) for i in range(hidden_size)])\n",
    "        freqs = freqs.unsqueeze(1)\n",
    "        phases = torch.Tensor([0 if i % 2 == 0 else math.pi / 2 for i in range(hidden_size)])\n",
    "        phases = phases.unsqueeze(1)\n",
    "        pos = torch.arange(length).repeat(hidden_size, 1)\n",
    "        self.pos_encoding = nn.Parameter(torch.sin(pos*freqs + phases), requires_grad=False)\n",
    "\n",
    "    def forward(self, x):\n",
    "        \"\"\"\n",
    "        :param x: (batch_size, d, c_len)\n",
    "        :return: (batch_size, d, c_len)\n",
    "        \"\"\"\n",
    "        x = x + self.pos_encoding\n",
    "        return x"
   ]
  },
  {
   "cell_type": "code",
   "execution_count": 31,
   "metadata": {},
   "outputs": [],
   "source": [
    "a = torch.empty(128, 20)\n",
    "nn.init.xavier_uniform_(a)\n",
    "a = nn.Parameter(a)"
   ]
  },
  {
   "cell_type": "code",
   "execution_count": 32,
   "metadata": {
    "collapsed": true
   },
   "outputs": [],
   "source": [
    "x = torch.ones(4, 20, 128)"
   ]
  },
  {
   "cell_type": "code",
   "execution_count": 33,
   "metadata": {},
   "outputs": [
    {
     "data": {
      "text/plain": [
       "tensor([[[ 2.5091, -1.9933, -2.3790,  ..., -0.4085, -0.3303, -1.5322],\n",
       "         [ 2.5091, -1.9933, -2.3790,  ..., -0.4085, -0.3303, -1.5322],\n",
       "         [ 2.5091, -1.9933, -2.3790,  ..., -0.4085, -0.3303, -1.5322],\n",
       "         ...,\n",
       "         [ 2.5091, -1.9933, -2.3790,  ..., -0.4085, -0.3303, -1.5322],\n",
       "         [ 2.5091, -1.9933, -2.3790,  ..., -0.4085, -0.3303, -1.5322],\n",
       "         [ 2.5091, -1.9933, -2.3790,  ..., -0.4085, -0.3303, -1.5322]],\n",
       "\n",
       "        [[ 2.5091, -1.9933, -2.3790,  ..., -0.4085, -0.3303, -1.5322],\n",
       "         [ 2.5091, -1.9933, -2.3790,  ..., -0.4085, -0.3303, -1.5322],\n",
       "         [ 2.5091, -1.9933, -2.3790,  ..., -0.4085, -0.3303, -1.5322],\n",
       "         ...,\n",
       "         [ 2.5091, -1.9933, -2.3790,  ..., -0.4085, -0.3303, -1.5322],\n",
       "         [ 2.5091, -1.9933, -2.3790,  ..., -0.4085, -0.3303, -1.5322],\n",
       "         [ 2.5091, -1.9933, -2.3790,  ..., -0.4085, -0.3303, -1.5322]],\n",
       "\n",
       "        [[ 2.5091, -1.9933, -2.3790,  ..., -0.4085, -0.3303, -1.5322],\n",
       "         [ 2.5091, -1.9933, -2.3790,  ..., -0.4085, -0.3303, -1.5322],\n",
       "         [ 2.5091, -1.9933, -2.3790,  ..., -0.4085, -0.3303, -1.5322],\n",
       "         ...,\n",
       "         [ 2.5091, -1.9933, -2.3790,  ..., -0.4085, -0.3303, -1.5322],\n",
       "         [ 2.5091, -1.9933, -2.3790,  ..., -0.4085, -0.3303, -1.5322],\n",
       "         [ 2.5091, -1.9933, -2.3790,  ..., -0.4085, -0.3303, -1.5322]],\n",
       "\n",
       "        [[ 2.5091, -1.9933, -2.3790,  ..., -0.4085, -0.3303, -1.5322],\n",
       "         [ 2.5091, -1.9933, -2.3790,  ..., -0.4085, -0.3303, -1.5322],\n",
       "         [ 2.5091, -1.9933, -2.3790,  ..., -0.4085, -0.3303, -1.5322],\n",
       "         ...,\n",
       "         [ 2.5091, -1.9933, -2.3790,  ..., -0.4085, -0.3303, -1.5322],\n",
       "         [ 2.5091, -1.9933, -2.3790,  ..., -0.4085, -0.3303, -1.5322],\n",
       "         [ 2.5091, -1.9933, -2.3790,  ..., -0.4085, -0.3303, -1.5322]]])"
      ]
     },
     "execution_count": 33,
     "metadata": {},
     "output_type": "execute_result"
    }
   ],
   "source": [
    "torch.matmul(x, a)"
   ]
  },
  {
   "cell_type": "code",
   "execution_count": 19,
   "metadata": {},
   "outputs": [
    {
     "data": {
      "text/plain": [
       "tensor([[[ 1.,  1.,  1.,  1.],\n",
       "         [ 1.,  1.,  1.,  1.]],\n",
       "\n",
       "        [[ 1.,  1.,  1.,  1.],\n",
       "         [ 1.,  1.,  1.,  1.]],\n",
       "\n",
       "        [[ 1.,  1.,  1.,  1.],\n",
       "         [ 1.,  1.,  1.,  1.]]])"
      ]
     },
     "execution_count": 19,
     "metadata": {},
     "output_type": "execute_result"
    }
   ],
   "source": [
    "a = torch.zeros(2, 4)\n",
    "b = torch.ones(3, 2, 4)\n",
    "a + b"
   ]
  },
  {
   "cell_type": "code",
   "execution_count": null,
   "metadata": {
    "collapsed": true
   },
   "outputs": [],
   "source": []
  },
  {
   "cell_type": "code",
   "execution_count": null,
   "metadata": {
    "collapsed": true
   },
   "outputs": [],
   "source": []
  },
  {
   "cell_type": "code",
   "execution_count": null,
   "metadata": {
    "collapsed": true
   },
   "outputs": [],
   "source": []
  },
  {
   "cell_type": "code",
   "execution_count": null,
   "metadata": {
    "collapsed": true
   },
   "outputs": [],
   "source": []
  },
  {
   "cell_type": "code",
   "execution_count": null,
   "metadata": {
    "collapsed": true
   },
   "outputs": [],
   "source": []
  },
  {
   "cell_type": "code",
   "execution_count": null,
   "metadata": {
    "collapsed": true
   },
   "outputs": [],
   "source": []
  },
  {
   "cell_type": "code",
   "execution_count": null,
   "metadata": {
    "collapsed": true
   },
   "outputs": [],
   "source": []
  },
  {
   "cell_type": "code",
   "execution_count": null,
   "metadata": {
    "collapsed": true
   },
   "outputs": [],
   "source": []
  },
  {
   "cell_type": "code",
   "execution_count": null,
   "metadata": {
    "collapsed": true
   },
   "outputs": [],
   "source": []
  },
  {
   "cell_type": "code",
   "execution_count": null,
   "metadata": {
    "collapsed": true
   },
   "outputs": [],
   "source": []
  },
  {
   "cell_type": "code",
   "execution_count": null,
   "metadata": {
    "collapsed": true
   },
   "outputs": [],
   "source": []
  },
  {
   "cell_type": "code",
   "execution_count": null,
   "metadata": {
    "collapsed": true
   },
   "outputs": [],
   "source": []
  },
  {
   "cell_type": "code",
   "execution_count": null,
   "metadata": {
    "collapsed": true
   },
   "outputs": [],
   "source": []
  },
  {
   "cell_type": "code",
   "execution_count": null,
   "metadata": {
    "collapsed": true
   },
   "outputs": [],
   "source": []
  },
  {
   "cell_type": "code",
   "execution_count": null,
   "metadata": {
    "collapsed": true
   },
   "outputs": [],
   "source": []
  }
 ],
 "metadata": {
  "kernelspec": {
   "display_name": "Python 3",
   "language": "python",
   "name": "python3"
  },
  "language_info": {
   "codemirror_mode": {
    "name": "ipython",
    "version": 3
   },
   "file_extension": ".py",
   "mimetype": "text/x-python",
   "name": "python",
   "nbconvert_exporter": "python",
   "pygments_lexer": "ipython3",
   "version": "3.6.2"
  }
 },
 "nbformat": 4,
 "nbformat_minor": 2
}
