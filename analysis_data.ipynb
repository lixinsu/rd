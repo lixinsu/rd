{
 "cells": [
  {
   "cell_type": "code",
   "execution_count": 1,
   "metadata": {
    "collapsed": true
   },
   "outputs": [],
   "source": [
    "import json\n",
    "import pandas as pd\n",
    "import jieba\n",
    "import vocab\n",
    "import re\n",
    "import numpy as np\n",
    "import preprocess_data\n",
    "import utils"
   ]
  },
  {
   "cell_type": "code",
   "execution_count": 2,
   "metadata": {},
   "outputs": [
    {
     "data": {
      "text/html": [
       "<div>\n",
       "<style>\n",
       "    .dataframe thead tr:only-child th {\n",
       "        text-align: right;\n",
       "    }\n",
       "\n",
       "    .dataframe thead th {\n",
       "        text-align: left;\n",
       "    }\n",
       "\n",
       "    .dataframe tbody tr th {\n",
       "        vertical-align: top;\n",
       "    }\n",
       "</style>\n",
       "<table border=\"1\" class=\"dataframe\">\n",
       "  <thead>\n",
       "    <tr style=\"text-align: right;\">\n",
       "      <th></th>\n",
       "      <th>article_id</th>\n",
       "      <th>article_type</th>\n",
       "      <th>article_title</th>\n",
       "      <th>article_content</th>\n",
       "      <th>question_id</th>\n",
       "      <th>question</th>\n",
       "      <th>answer</th>\n",
       "      <th>question_type</th>\n",
       "    </tr>\n",
       "  </thead>\n",
       "  <tbody>\n",
       "    <tr>\n",
       "      <th>1716</th>\n",
       "      <td>42216</td>\n",
       "      <td>防务快讯</td>\n",
       "      <td>中国周边果真\"起火\"了吗？</td>\n",
       "      <td>近几个月来，中国周边出现了一些新的动向，有的基本上是由国内矛盾引起的，有的则存在复杂的国际背...</td>\n",
       "      <td>8297bac6-848d-4da6-9611-fbb76c603a28</td>\n",
       "      <td>美国一位知名人士10多年前就说过什么</td>\n",
       "      <td>相信冲突不可避免的想法本身就是冲突的根源</td>\n",
       "      <td>观点型问题</td>\n",
       "    </tr>\n",
       "  </tbody>\n",
       "</table>\n",
       "</div>"
      ],
      "text/plain": [
       "      article_id article_type  article_title  \\\n",
       "1716       42216         防务快讯  中国周边果真\"起火\"了吗？   \n",
       "\n",
       "                                        article_content  \\\n",
       "1716  近几个月来，中国周边出现了一些新的动向，有的基本上是由国内矛盾引起的，有的则存在复杂的国际背...   \n",
       "\n",
       "                               question_id            question  \\\n",
       "1716  8297bac6-848d-4da6-9611-fbb76c603a28  美国一位知名人士10多年前就说过什么   \n",
       "\n",
       "                    answer question_type  \n",
       "1716  相信冲突不可避免的想法本身就是冲突的根源         观点型问题  "
      ]
     },
     "execution_count": 2,
     "metadata": {},
     "output_type": "execute_result"
    }
   ],
   "source": [
    "# data = pd.read_csv('data_gen/train_df.csv')\n",
    "data = pd.read_csv('data_gen/train_df_5000.csv')\n",
    "data.sample(1)"
   ]
  },
  {
   "cell_type": "markdown",
   "metadata": {},
   "source": [
    "# 数据预处理"
   ]
  },
  {
   "cell_type": "code",
   "execution_count": 3,
   "metadata": {},
   "outputs": [
    {
     "data": {
      "text/html": [
       "<div>\n",
       "<style>\n",
       "    .dataframe thead tr:only-child th {\n",
       "        text-align: right;\n",
       "    }\n",
       "\n",
       "    .dataframe thead th {\n",
       "        text-align: left;\n",
       "    }\n",
       "\n",
       "    .dataframe tbody tr th {\n",
       "        vertical-align: top;\n",
       "    }\n",
       "</style>\n",
       "<table border=\"1\" class=\"dataframe\">\n",
       "  <thead>\n",
       "    <tr style=\"text-align: right;\">\n",
       "      <th></th>\n",
       "      <th>article_id</th>\n",
       "      <th>article_type</th>\n",
       "      <th>article_title</th>\n",
       "      <th>article_content</th>\n",
       "      <th>question_id</th>\n",
       "      <th>question</th>\n",
       "      <th>answer</th>\n",
       "      <th>question_type</th>\n",
       "      <th>title</th>\n",
       "      <th>content</th>\n",
       "    </tr>\n",
       "  </thead>\n",
       "  <tbody>\n",
       "    <tr>\n",
       "      <th>2115</th>\n",
       "      <td>46547</td>\n",
       "      <td>防务快讯</td>\n",
       "      <td>俄罗斯有意联合巴西研制未来先进战斗机</td>\n",
       "      <td>[据俄新社2013年10月14日报道]为使苏-35战斗机重返F-X2战斗机竞标，俄罗斯打算授...</td>\n",
       "      <td>7dbeb36c-1215-4052-a3ba-59070e437e81</td>\n",
       "      <td>俄罗斯有意联合巴西研制什么</td>\n",
       "      <td>未来先进战斗机</td>\n",
       "      <td>事实型问题</td>\n",
       "      <td>俄罗斯有意联合巴西研制未来先进战斗机</td>\n",
       "      <td>[据俄新社2013年10月14日报道]为使苏-35战斗机重返F-X2战斗机竞标，俄罗斯打算授...</td>\n",
       "    </tr>\n",
       "  </tbody>\n",
       "</table>\n",
       "</div>"
      ],
      "text/plain": [
       "      article_id article_type       article_title  \\\n",
       "2115       46547         防务快讯  俄罗斯有意联合巴西研制未来先进战斗机   \n",
       "\n",
       "                                        article_content  \\\n",
       "2115  [据俄新社2013年10月14日报道]为使苏-35战斗机重返F-X2战斗机竞标，俄罗斯打算授...   \n",
       "\n",
       "                               question_id        question    answer  \\\n",
       "2115  7dbeb36c-1215-4052-a3ba-59070e437e81   俄罗斯有意联合巴西研制什么  未来先进战斗机    \n",
       "\n",
       "     question_type               title  \\\n",
       "2115         事实型问题  俄罗斯有意联合巴西研制未来先进战斗机   \n",
       "\n",
       "                                                content  \n",
       "2115  [据俄新社2013年10月14日报道]为使苏-35战斗机重返F-X2战斗机竞标，俄罗斯打算授...  "
      ]
     },
     "execution_count": 3,
     "metadata": {},
     "output_type": "execute_result"
    }
   ],
   "source": [
    "# 除掉多余空格，除掉'\\u3000'\n",
    "def preprocess_data(data):\n",
    "    result = []\n",
    "    for i in data:\n",
    "        i = re.sub(r'\\u3000', ' ', i)\n",
    "        i = re.sub(r'\\s+', ' ', i)\n",
    "        \n",
    "        # 繁简体转换\n",
    "        i = re.sub(r'０', '0', i)\n",
    "        i = re.sub(r'１', '1', i)\n",
    "        i = re.sub(r'２', '2', i)\n",
    "        i = re.sub(r'３', '3', i)\n",
    "        i = re.sub(r'４', '4', i)\n",
    "        i = re.sub(r'５', '5', i)\n",
    "        i = re.sub(r'６', '6', i)\n",
    "        i = re.sub(r'７', '7', i)\n",
    "        i = re.sub(r'８', '8', i)\n",
    "        i = re.sub(r'９', '9', i)\n",
    "        i = re.sub(r'．', '.', i)\n",
    "        \n",
    "        result.append(i)\n",
    "    return result\n",
    "\n",
    "data.loc[:, 'title'] = preprocess_data(data.article_title.values)\n",
    "data.loc[:, 'content'] = preprocess_data(data.article_content.values)\n",
    "data.loc[:, 'question'] = preprocess_data(data.question.values)\n",
    "data.loc[:, 'answer'] = preprocess_data(data.answer.values)\n",
    "data.sample(1)"
   ]
  },
  {
   "cell_type": "code",
   "execution_count": 4,
   "metadata": {},
   "outputs": [
    {
     "data": {
      "text/html": [
       "<div>\n",
       "<style>\n",
       "    .dataframe thead tr:only-child th {\n",
       "        text-align: right;\n",
       "    }\n",
       "\n",
       "    .dataframe thead th {\n",
       "        text-align: left;\n",
       "    }\n",
       "\n",
       "    .dataframe tbody tr th {\n",
       "        vertical-align: top;\n",
       "    }\n",
       "</style>\n",
       "<table border=\"1\" class=\"dataframe\">\n",
       "  <thead>\n",
       "    <tr style=\"text-align: right;\">\n",
       "      <th></th>\n",
       "      <th>article_id</th>\n",
       "      <th>article_type</th>\n",
       "      <th>article_title</th>\n",
       "      <th>article_content</th>\n",
       "      <th>question_id</th>\n",
       "      <th>question</th>\n",
       "      <th>answer</th>\n",
       "      <th>question_type</th>\n",
       "      <th>title</th>\n",
       "      <th>content</th>\n",
       "    </tr>\n",
       "  </thead>\n",
       "  <tbody>\n",
       "    <tr>\n",
       "      <th>979</th>\n",
       "      <td>4236</td>\n",
       "      <td>新闻</td>\n",
       "      <td>难上加难：沙特“爱国者”反导难挡胡塞“火山”弹道导弹袭击（16）</td>\n",
       "      <td>招致了这么多强国的敌视，胡塞武装遭到外部打击的命运，其实早已注定了。图为2014年9月22...</td>\n",
       "      <td>0c434657-f98e-4751-a221-de79a457f318</td>\n",
       "      <td>一群胡塞武装人员站在几辆缴获自也门陆军第1装甲师的步兵战车上欢呼</td>\n",
       "      <td>一</td>\n",
       "      <td>数值型问题</td>\n",
       "      <td>难上加难：沙特“爱国者”反导难挡胡塞“火山”弹道导弹袭击（16）</td>\n",
       "      <td>招致了这么多强国的敌视，胡塞武装遭到外部打击的命运，其实早已注定了。图为2014年9月22...</td>\n",
       "    </tr>\n",
       "  </tbody>\n",
       "</table>\n",
       "</div>"
      ],
      "text/plain": [
       "     article_id article_type                     article_title  \\\n",
       "979        4236           新闻  难上加难：沙特“爱国者”反导难挡胡塞“火山”弹道导弹袭击（16）   \n",
       "\n",
       "                                       article_content  \\\n",
       "979   招致了这么多强国的敌视，胡塞武装遭到外部打击的命运，其实早已注定了。图为2014年9月22...   \n",
       "\n",
       "                              question_id                          question  \\\n",
       "979  0c434657-f98e-4751-a221-de79a457f318  一群胡塞武装人员站在几辆缴获自也门陆军第1装甲师的步兵战车上欢呼   \n",
       "\n",
       "    answer question_type                             title  \\\n",
       "979      一         数值型问题  难上加难：沙特“爱国者”反导难挡胡塞“火山”弹道导弹袭击（16）   \n",
       "\n",
       "                                               content  \n",
       "979   招致了这么多强国的敌视，胡塞武装遭到外部打击的命运，其实早已注定了。图为2014年9月22...  "
      ]
     },
     "execution_count": 4,
     "metadata": {},
     "output_type": "execute_result"
    }
   ],
   "source": [
    "# 除掉答案中的不好结尾符\n",
    "answers = data.answer.values\n",
    "answers = [answer.strip()[: -1] if answer.strip()[-1] in ['。', '，', '：', '！', '？'] else answer.strip() \n",
    " for answer in answers]\n",
    "data.loc[:, 'answer'] = answers\n",
    "data.sample(1)"
   ]
  },
  {
   "cell_type": "code",
   "execution_count": 191,
   "metadata": {
    "collapsed": true
   },
   "outputs": [],
   "source": [
    "stopword_file = 'data/stopwords'\n",
    "stopwords = []\n",
    "with open(stopword_file, 'r') as file:\n",
    "    for word in file.readlines():\n",
    "        stopwords.append(word[:-1])\n",
    "stopwords = set(stopwords)"
   ]
  },
  {
   "cell_type": "markdown",
   "metadata": {},
   "source": [
    "# 构建数据集"
   ]
  },
  {
   "cell_type": "code",
   "execution_count": 35,
   "metadata": {},
   "outputs": [
    {
     "data": {
      "text/html": [
       "<div>\n",
       "<style>\n",
       "    .dataframe thead tr:only-child th {\n",
       "        text-align: right;\n",
       "    }\n",
       "\n",
       "    .dataframe thead th {\n",
       "        text-align: left;\n",
       "    }\n",
       "\n",
       "    .dataframe tbody tr th {\n",
       "        vertical-align: top;\n",
       "    }\n",
       "</style>\n",
       "<table border=\"1\" class=\"dataframe\">\n",
       "  <thead>\n",
       "    <tr style=\"text-align: right;\">\n",
       "      <th></th>\n",
       "      <th>article_id</th>\n",
       "      <th>article_type</th>\n",
       "      <th>article_title</th>\n",
       "      <th>article_content</th>\n",
       "      <th>question_id</th>\n",
       "      <th>question</th>\n",
       "      <th>answer</th>\n",
       "      <th>question_type</th>\n",
       "      <th>title</th>\n",
       "      <th>content</th>\n",
       "      <th>merge</th>\n",
       "      <th>is_in</th>\n",
       "      <th>merge_len</th>\n",
       "    </tr>\n",
       "  </thead>\n",
       "  <tbody>\n",
       "    <tr>\n",
       "      <th>3272</th>\n",
       "      <td>36391</td>\n",
       "      <td>防务快讯</td>\n",
       "      <td>美媒：美国新入役P-8A反潜巡逻机问题多</td>\n",
       "      <td>核心提示： P-8A是双引擎喷气式飞机，速度为910公里/时。参考消息网2月7日报道 外媒称...</td>\n",
       "      <td>c3d838a5-1759-4a56-a20c-781a3f481af2</td>\n",
       "      <td>P-8A与P-3一样，机翼下有可挂载鱼雷或导弹的挂点。海军飞行员相信，P-8A将与什么一样稳...</td>\n",
       "      <td>P-3</td>\n",
       "      <td>事实型问题</td>\n",
       "      <td>美媒：美国新入役P-8A反潜巡逻机问题多</td>\n",
       "      <td>核心提示： P-8A是双引擎喷气式飞机，速度为910公里/时。参考消息网2月7日报道 外媒称...</td>\n",
       "      <td>美媒：美国新入役P-8A反潜巡逻机问题多。报道称，当然，P-8A也有许多优势。P-8A是双引...</td>\n",
       "      <td>True</td>\n",
       "      <td>176</td>\n",
       "    </tr>\n",
       "  </tbody>\n",
       "</table>\n",
       "</div>"
      ],
      "text/plain": [
       "      article_id article_type         article_title  \\\n",
       "3272       36391         防务快讯  美媒：美国新入役P-8A反潜巡逻机问题多   \n",
       "\n",
       "                                        article_content  \\\n",
       "3272  核心提示： P-8A是双引擎喷气式飞机，速度为910公里/时。参考消息网2月7日报道 外媒称...   \n",
       "\n",
       "                               question_id  \\\n",
       "3272  c3d838a5-1759-4a56-a20c-781a3f481af2   \n",
       "\n",
       "                                               question answer question_type  \\\n",
       "3272  P-8A与P-3一样，机翼下有可挂载鱼雷或导弹的挂点。海军飞行员相信，P-8A将与什么一样稳...    P-3         事实型问题   \n",
       "\n",
       "                     title                                            content  \\\n",
       "3272  美媒：美国新入役P-8A反潜巡逻机问题多  核心提示： P-8A是双引擎喷气式飞机，速度为910公里/时。参考消息网2月7日报道 外媒称...   \n",
       "\n",
       "                                                  merge  is_in  merge_len  \n",
       "3272  美媒：美国新入役P-8A反潜巡逻机问题多。报道称，当然，P-8A也有许多优势。P-8A是双引...   True        176  "
      ]
     },
     "execution_count": 35,
     "metadata": {},
     "output_type": "execute_result"
    }
   ],
   "source": [
    "\n",
    "def match(title, content, question):\n",
    "        result = []\n",
    "        # 添加标题\n",
    "        result.append(title)\n",
    "\n",
    "        # 添加所有最相似行 + 下一行 + 上一行 + (出现在问题中的行+上一行+下一行)\n",
    "        content_list = content.split('。')\n",
    "        temp = []\n",
    "        for c in content_list:\n",
    "            if c not in ['', ' ']:\n",
    "                temp.append(c.strip())\n",
    "        content_list = temp\n",
    "\n",
    "        question_set = set(jieba.cut(question))\n",
    "        scores = []\n",
    "        for c in content_list:\n",
    "            c_set = set(jieba.cut(c))\n",
    "            if c_set <= question_set:\n",
    "                scores.append(-1)\n",
    "                continue\n",
    "            score = len(c_set & question_set)\n",
    "            scores.append(score)\n",
    "\n",
    "        max_score = max(scores)\n",
    "\n",
    "        for i in range(len(scores)):\n",
    "            if scores[i] == max_score or scores[i]<0:\n",
    "                if i-1 >= 0:\n",
    "                    result.append(content_list[i-1])\n",
    "                result.append(content_list[i])\n",
    "                if i+1 < len(content_list):\n",
    "                    result.append(content_list[i+1])\n",
    "                \n",
    "#         result.append(content_list[0])\n",
    "#         result.append(content_list[-1])\n",
    "\n",
    "        # 过滤\n",
    "        temp = []\n",
    "        for r in result:\n",
    "            if r not in temp:\n",
    "                temp.append(r)\n",
    "        result = temp\n",
    "\n",
    "        return '。'.join(result)\n",
    "\n",
    "titles = data.title.values\n",
    "contents = data.content.values\n",
    "questions = data.question.values\n",
    "answers = data.answer.values\n",
    "\n",
    "merge = [match(t, c, q) for t, c, q in zip(titles, contents, questions)]\n",
    "data.loc[:, 'merge'] = merge\n",
    "data.sample(1)"
   ]
  },
  {
   "cell_type": "markdown",
   "metadata": {},
   "source": [
    "# 评估数据集构建效果"
   ]
  },
  {
   "cell_type": "code",
   "execution_count": 36,
   "metadata": {},
   "outputs": [
    {
     "name": "stdout",
     "output_type": "stream",
     "text": [
      "accuracy: 0.9498\n",
      "max length: 5406\n",
      "min length: 29\n",
      "mean length: 123\n",
      "the split length (data > 0.98): 395\n",
      "mean length (data > 0.98): 108\n"
     ]
    }
   ],
   "source": [
    "# 准确率\n",
    "is_in = [True if a in m else False for m, a in zip(merge, answers)]\n",
    "data.loc[:, 'is_in'] = is_in\n",
    "print('accuracy: %.4f' % (sum(is_in)/len(is_in)))\n",
    "\n",
    "# 长度\n",
    "merge_len = [len(list(jieba.cut(m))) for m in merge]\n",
    "data.loc[:, 'merge_len'] = merge_len\n",
    "print('max length: %d' % max(merge_len))\n",
    "print('min length: %d' % min(merge_len))\n",
    "print('mean length: %d' % data.merge_len.mean())\n",
    "\n",
    "a = data.merge_len.value_counts()[list(range(100000))]\n",
    "num = a[a.notnull()].cumsum() / len(data)\n",
    "print('the split length (data > 0.98): %d' % (num[num>0.98].index[0]))\n",
    "print('mean length (data > 0.98): %d' % int(data[data.merge_len <= num[num>0.98].index[0]].merge_len.mean()))\n"
   ]
  },
  {
   "cell_type": "code",
   "execution_count": 39,
   "metadata": {},
   "outputs": [
    {
     "data": {
      "text/plain": [
       "395     0.9802\n",
       "398     0.9804\n",
       "403     0.9806\n",
       "406     0.9808\n",
       "407     0.9810\n",
       "408     0.9812\n",
       "410     0.9814\n",
       "412     0.9816\n",
       "416     0.9820\n",
       "419     0.9822\n",
       "421     0.9824\n",
       "425     0.9826\n",
       "428     0.9828\n",
       "429     0.9830\n",
       "430     0.9834\n",
       "431     0.9836\n",
       "433     0.9838\n",
       "436     0.9840\n",
       "439     0.9842\n",
       "444     0.9844\n",
       "445     0.9846\n",
       "446     0.9848\n",
       "448     0.9852\n",
       "453     0.9856\n",
       "458     0.9858\n",
       "460     0.9860\n",
       "462     0.9862\n",
       "463     0.9864\n",
       "464     0.9866\n",
       "466     0.9868\n",
       "         ...  \n",
       "734     0.9942\n",
       "743     0.9944\n",
       "744     0.9946\n",
       "745     0.9948\n",
       "770     0.9950\n",
       "813     0.9952\n",
       "816     0.9954\n",
       "846     0.9956\n",
       "853     0.9958\n",
       "863     0.9960\n",
       "917     0.9962\n",
       "929     0.9964\n",
       "971     0.9966\n",
       "1093    0.9968\n",
       "1130    0.9970\n",
       "1227    0.9972\n",
       "1365    0.9974\n",
       "1412    0.9976\n",
       "1457    0.9978\n",
       "1475    0.9980\n",
       "1495    0.9982\n",
       "1692    0.9984\n",
       "1703    0.9986\n",
       "1751    0.9988\n",
       "2053    0.9990\n",
       "2253    0.9992\n",
       "3500    0.9994\n",
       "3771    0.9996\n",
       "4037    0.9998\n",
       "5406    1.0000\n",
       "Name: merge_len, Length: 90, dtype: float64"
      ]
     },
     "execution_count": 39,
     "metadata": {},
     "output_type": "execute_result"
    }
   ],
   "source": []
  },
  {
   "cell_type": "code",
   "execution_count": null,
   "metadata": {
    "collapsed": true
   },
   "outputs": [],
   "source": [
    "accuracy: 0.9498\n",
    "max length: 5406\n",
    "min length: 29\n",
    "mean length: 123\n",
    "the split length (data > 0.98): 395\n",
    "mean length (data > 0.98): 108"
   ]
  },
  {
   "cell_type": "code",
   "execution_count": null,
   "metadata": {
    "collapsed": true
   },
   "outputs": [],
   "source": []
  },
  {
   "cell_type": "code",
   "execution_count": null,
   "metadata": {
    "collapsed": true
   },
   "outputs": [],
   "source": []
  },
  {
   "cell_type": "code",
   "execution_count": null,
   "metadata": {
    "collapsed": true
   },
   "outputs": [],
   "source": []
  }
 ],
 "metadata": {
  "kernelspec": {
   "display_name": "Python 3",
   "language": "python",
   "name": "python3"
  },
  "language_info": {
   "codemirror_mode": {
    "name": "ipython",
    "version": 3
   },
   "file_extension": ".py",
   "mimetype": "text/x-python",
   "name": "python",
   "nbconvert_exporter": "python",
   "pygments_lexer": "ipython3",
   "version": "3.6.2"
  }
 },
 "nbformat": 4,
 "nbformat_minor": 2
}
