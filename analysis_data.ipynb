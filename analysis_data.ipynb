{
 "cells": [
  {
   "cell_type": "code",
   "execution_count": 77,
   "metadata": {
    "collapsed": true
   },
   "outputs": [],
   "source": [
    "import pandas as pd\n",
    "from config import config_bi_daf\n",
    "from preprocess_data import *\n",
    "import numpy as np\n",
    "config = config_bi_daf.config"
   ]
  },
  {
   "cell_type": "code",
   "execution_count": 53,
   "metadata": {},
   "outputs": [],
   "source": [
    "df = organize_data(config.train_data)\n",
    "df = df.sample(5000)\n",
    "df = deal_data(df)\n",
    "\n",
    "# df = pd.read_csv('result/bi_daf_1_val_fake.csv')\n",
    "# df = df[df['answer_start'] != df['answer_start_pred']]\n",
    "# df = df[df['answer_end'] != df['answer_end_pred']]\n",
    "# len(df)"
   ]
  },
  {
   "cell_type": "code",
   "execution_count": 60,
   "metadata": {},
   "outputs": [
    {
     "name": "stdout",
     "output_type": "stream",
     "text": [
      "114\n"
     ]
    },
    {
     "data": {
      "text/plain": [
       "0.0228"
      ]
     },
     "execution_count": 60,
     "metadata": {},
     "output_type": "execute_result"
    }
   ],
   "source": [
    "answers = df['answer'].values\n",
    "titles = df['title'].values\n",
    "print(sum(answers == titles))\n",
    "sum(answers == titles)/5000"
   ]
  },
  {
   "cell_type": "code",
   "execution_count": 105,
   "metadata": {},
   "outputs": [
    {
     "data": {
      "text/plain": [
       "0.7192857142857143"
      ]
     },
     "execution_count": 105,
     "metadata": {},
     "output_type": "execute_result"
    }
   ],
   "source": [
    "df = pd.read_csv('result/bi_daf_1_val_fake.csv')\n",
    "a = len(df)\n",
    "df = df[df['answer'] != df['answer_pred']]\n",
    "b = len(df)\n",
    "1- b/a"
   ]
  },
  {
   "cell_type": "code",
   "execution_count": 106,
   "metadata": {},
   "outputs": [
    {
     "data": {
      "text/plain": [
       "9800"
      ]
     },
     "execution_count": 106,
     "metadata": {},
     "output_type": "execute_result"
    }
   ],
   "source": [
    "a"
   ]
  },
  {
   "cell_type": "code",
   "execution_count": 102,
   "metadata": {},
   "outputs": [
    {
     "data": {
      "text/plain": [
       "0.7217741935483871"
      ]
     },
     "execution_count": 102,
     "metadata": {},
     "output_type": "execute_result"
    }
   ],
   "source": [
    "df = pd.read_csv('result/bi_daf_1_val_fake.csv')\n",
    "df = df[df['answer'] == df['title']]\n",
    "a = len(df)\n",
    "df = df[df['answer'] == df['answer_pred']]\n",
    "b = len(df)\n",
    "b/a"
   ]
  },
  {
   "cell_type": "code",
   "execution_count": 100,
   "metadata": {},
   "outputs": [
    {
     "data": {
      "text/plain": [
       "248"
      ]
     },
     "execution_count": 100,
     "metadata": {},
     "output_type": "execute_result"
    }
   ],
   "source": [
    "a"
   ]
  },
  {
   "cell_type": "code",
   "execution_count": 107,
   "metadata": {},
   "outputs": [
    {
     "data": {
      "text/plain": [
       "0.0070408163265306125"
      ]
     },
     "execution_count": 107,
     "metadata": {},
     "output_type": "execute_result"
    }
   ],
   "source": [
    "(248-179)/9800"
   ]
  },
  {
   "cell_type": "code",
   "execution_count": 94,
   "metadata": {},
   "outputs": [
    {
     "data": {
      "text/plain": [
       "2682"
      ]
     },
     "execution_count": 94,
     "metadata": {},
     "output_type": "execute_result"
    }
   ],
   "source": [
    "len(df[df['answer'] != df['title']])"
   ]
  },
  {
   "cell_type": "code",
   "execution_count": 88,
   "metadata": {},
   "outputs": [
    {
     "data": {
      "text/html": [
       "<div>\n",
       "<style>\n",
       "    .dataframe thead tr:only-child th {\n",
       "        text-align: right;\n",
       "    }\n",
       "\n",
       "    .dataframe thead th {\n",
       "        text-align: left;\n",
       "    }\n",
       "\n",
       "    .dataframe tbody tr th {\n",
       "        vertical-align: top;\n",
       "    }\n",
       "</style>\n",
       "<table border=\"1\" class=\"dataframe\">\n",
       "  <thead>\n",
       "    <tr style=\"text-align: right;\">\n",
       "      <th></th>\n",
       "      <th>article_id</th>\n",
       "      <th>title</th>\n",
       "      <th>content</th>\n",
       "      <th>merge</th>\n",
       "      <th>question</th>\n",
       "      <th>answer</th>\n",
       "      <th>answer_pred</th>\n",
       "      <th>answer_start</th>\n",
       "      <th>answer_end</th>\n",
       "      <th>answer_start_pred</th>\n",
       "      <th>answer_end_pred</th>\n",
       "    </tr>\n",
       "  </thead>\n",
       "  <tbody>\n",
       "    <tr>\n",
       "      <th>6221</th>\n",
       "      <td>30041</td>\n",
       "      <td>韩国将接受日本提议 重启军事情报保护协定谈判</td>\n",
       "      <td>据日本共同社报道，韩国国防部官员本月27日透露称，已决定重启签署可以共享安全领域情报的日韩《...</td>\n",
       "      <td>韩国将接受日本提议 重启军事情报保护协定谈判。据日本共同社报道，韩国国防部官员本月27日透露...</td>\n",
       "      <td>韩国为与美国交换军事情报要干嘛</td>\n",
       "      <td>同日本签署该协定</td>\n",
       "      <td>也必须同日本签署该协定</td>\n",
       "      <td>94.0</td>\n",
       "      <td>98.0</td>\n",
       "      <td>92</td>\n",
       "      <td>98</td>\n",
       "    </tr>\n",
       "  </tbody>\n",
       "</table>\n",
       "</div>"
      ],
      "text/plain": [
       "      article_id                   title  \\\n",
       "6221       30041  韩国将接受日本提议 重启军事情报保护协定谈判   \n",
       "\n",
       "                                                content  \\\n",
       "6221  据日本共同社报道，韩国国防部官员本月27日透露称，已决定重启签署可以共享安全领域情报的日韩《...   \n",
       "\n",
       "                                                  merge         question  \\\n",
       "6221  韩国将接受日本提议 重启军事情报保护协定谈判。据日本共同社报道，韩国国防部官员本月27日透露...  韩国为与美国交换军事情报要干嘛   \n",
       "\n",
       "        answer  answer_pred  answer_start  answer_end  answer_start_pred  \\\n",
       "6221  同日本签署该协定  也必须同日本签署该协定          94.0        98.0                 92   \n",
       "\n",
       "      answer_end_pred  \n",
       "6221               98  "
      ]
     },
     "execution_count": 88,
     "metadata": {},
     "output_type": "execute_result"
    }
   ],
   "source": [
    "df.sample()"
   ]
  },
  {
   "cell_type": "code",
   "execution_count": 47,
   "metadata": {},
   "outputs": [
    {
     "data": {
      "text/html": [
       "<div>\n",
       "<style>\n",
       "    .dataframe thead tr:only-child th {\n",
       "        text-align: right;\n",
       "    }\n",
       "\n",
       "    .dataframe thead th {\n",
       "        text-align: left;\n",
       "    }\n",
       "\n",
       "    .dataframe tbody tr th {\n",
       "        vertical-align: top;\n",
       "    }\n",
       "</style>\n",
       "<table border=\"1\" class=\"dataframe\">\n",
       "  <thead>\n",
       "    <tr style=\"text-align: right;\">\n",
       "      <th></th>\n",
       "      <th>article_id</th>\n",
       "      <th>title</th>\n",
       "      <th>content</th>\n",
       "      <th>merge</th>\n",
       "      <th>question</th>\n",
       "      <th>answer</th>\n",
       "      <th>answer_pred</th>\n",
       "      <th>answer_start</th>\n",
       "      <th>answer_end</th>\n",
       "      <th>answer_start_pred</th>\n",
       "      <th>answer_end_pred</th>\n",
       "    </tr>\n",
       "  </thead>\n",
       "  <tbody>\n",
       "    <tr>\n",
       "      <th>1671</th>\n",
       "      <td>38895</td>\n",
       "      <td>俄媒称美国计划向印度免费赠送小鹰号航母</td>\n",
       "      <td>美国总统布什日前向印度建议，愿意向印免费赠送即将从美海军退役的小鹰号航母。美国向印度赠送小鹰...</td>\n",
       "      <td>俄媒称美国计划向印度免费赠送小鹰号航母。美国总统布什日前向印度建议，愿意向印免费赠送即将从美...</td>\n",
       "      <td>孙士海最终是如何认为的</td>\n",
       "      <td>印度不会把鸡蛋全放到美国的篮子里，中国不用太担心印美走近形成遏制中国的力量</td>\n",
       "      <td>孙士海认为，印度不会把鸡蛋全放到美国的篮子里，中国不用太担心印美走近形成遏制中国的力量。单纯...</td>\n",
       "      <td>54.0</td>\n",
       "      <td>75.0</td>\n",
       "      <td>51</td>\n",
       "      <td>122</td>\n",
       "    </tr>\n",
       "  </tbody>\n",
       "</table>\n",
       "</div>"
      ],
      "text/plain": [
       "      article_id                title  \\\n",
       "1671       38895  俄媒称美国计划向印度免费赠送小鹰号航母   \n",
       "\n",
       "                                                content  \\\n",
       "1671  美国总统布什日前向印度建议，愿意向印免费赠送即将从美海军退役的小鹰号航母。美国向印度赠送小鹰...   \n",
       "\n",
       "                                                  merge     question  \\\n",
       "1671  俄媒称美国计划向印度免费赠送小鹰号航母。美国总统布什日前向印度建议，愿意向印免费赠送即将从美...  孙士海最终是如何认为的   \n",
       "\n",
       "                                     answer  \\\n",
       "1671  印度不会把鸡蛋全放到美国的篮子里，中国不用太担心印美走近形成遏制中国的力量   \n",
       "\n",
       "                                            answer_pred  answer_start  \\\n",
       "1671  孙士海认为，印度不会把鸡蛋全放到美国的篮子里，中国不用太担心印美走近形成遏制中国的力量。单纯...          54.0   \n",
       "\n",
       "      answer_end  answer_start_pred  answer_end_pred  \n",
       "1671        75.0                 51              122  "
      ]
     },
     "execution_count": 47,
     "metadata": {},
     "output_type": "execute_result"
    }
   ],
   "source": [
    "a = df.sample()\n",
    "a"
   ]
  },
  {
   "cell_type": "code",
   "execution_count": 18,
   "metadata": {},
   "outputs": [
    {
     "data": {
      "text/plain": [
       "'谁从诺福克海军基地紧急派出一艘遣科尔号驱逐舰（USS Cole），跟踪俄罗斯维克多列昂诺夫号“间谍船”'"
      ]
     },
     "execution_count": 18,
     "metadata": {},
     "output_type": "execute_result"
    }
   ],
   "source": [
    "a.question.values[0]"
   ]
  },
  {
   "cell_type": "code",
   "execution_count": null,
   "metadata": {
    "collapsed": true
   },
   "outputs": [],
   "source": []
  },
  {
   "cell_type": "code",
   "execution_count": null,
   "metadata": {
    "collapsed": true
   },
   "outputs": [],
   "source": []
  },
  {
   "cell_type": "code",
   "execution_count": null,
   "metadata": {
    "collapsed": true
   },
   "outputs": [],
   "source": []
  },
  {
   "cell_type": "code",
   "execution_count": null,
   "metadata": {
    "collapsed": true
   },
   "outputs": [],
   "source": []
  },
  {
   "cell_type": "code",
   "execution_count": null,
   "metadata": {
    "collapsed": true
   },
   "outputs": [],
   "source": []
  },
  {
   "cell_type": "code",
   "execution_count": null,
   "metadata": {
    "collapsed": true
   },
   "outputs": [],
   "source": []
  },
  {
   "cell_type": "code",
   "execution_count": null,
   "metadata": {
    "collapsed": true
   },
   "outputs": [],
   "source": []
  },
  {
   "cell_type": "code",
   "execution_count": null,
   "metadata": {
    "collapsed": true
   },
   "outputs": [],
   "source": []
  },
  {
   "cell_type": "code",
   "execution_count": null,
   "metadata": {
    "collapsed": true
   },
   "outputs": [],
   "source": []
  },
  {
   "cell_type": "code",
   "execution_count": null,
   "metadata": {
    "collapsed": true
   },
   "outputs": [],
   "source": []
  },
  {
   "cell_type": "code",
   "execution_count": null,
   "metadata": {
    "collapsed": true
   },
   "outputs": [],
   "source": []
  },
  {
   "cell_type": "code",
   "execution_count": null,
   "metadata": {
    "collapsed": true
   },
   "outputs": [],
   "source": []
  },
  {
   "cell_type": "code",
   "execution_count": null,
   "metadata": {
    "collapsed": true
   },
   "outputs": [],
   "source": []
  },
  {
   "cell_type": "code",
   "execution_count": null,
   "metadata": {
    "collapsed": true
   },
   "outputs": [],
   "source": []
  },
  {
   "cell_type": "code",
   "execution_count": null,
   "metadata": {
    "collapsed": true
   },
   "outputs": [],
   "source": []
  },
  {
   "cell_type": "code",
   "execution_count": null,
   "metadata": {
    "collapsed": true
   },
   "outputs": [],
   "source": []
  }
 ],
 "metadata": {
  "kernelspec": {
   "display_name": "Python 3",
   "language": "python",
   "name": "python3"
  },
  "language_info": {
   "codemirror_mode": {
    "name": "ipython",
    "version": 3
   },
   "file_extension": ".py",
   "mimetype": "text/x-python",
   "name": "python",
   "nbconvert_exporter": "python",
   "pygments_lexer": "ipython3",
   "version": "3.6.2"
  }
 },
 "nbformat": 4,
 "nbformat_minor": 2
}
