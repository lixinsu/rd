{
 "cells": [
  {
   "cell_type": "code",
   "execution_count": 4,
   "metadata": {
    "collapsed": true
   },
   "outputs": [],
   "source": [
    "import json\n",
    "from rouge import Rouge\n",
    "import os\n",
    "import pandas as pd\n",
    "import numpy as np\n",
    "import copy\n",
    "import jieba\n",
    "import sys\n",
    "import re\n",
    "import logging\n",
    "import gensim\n",
    "from gensim.models.word2vec import LineSentence\n",
    "from sklearn import model_selection\n",
    "from config import config_base\n",
    "import vocab\n",
    "from preprocess_data import *\n",
    "config = config_base.config"
   ]
  },
  {
   "cell_type": "code",
   "execution_count": 8,
   "metadata": {},
   "outputs": [],
   "source": [
    "df = organize_data(config.train_data)\n",
    "df = df.sample(5000)"
   ]
  },
  {
   "cell_type": "code",
   "execution_count": 9,
   "metadata": {
    "collapsed": true
   },
   "outputs": [],
   "source": [
    "df = deal_data(df)"
   ]
  },
  {
   "cell_type": "code",
   "execution_count": 10,
   "metadata": {},
   "outputs": [
    {
     "name": "stdout",
     "output_type": "stream",
     "text": [
      "shorten content, accuracy: 0.9664\n",
      "max length: 300\n",
      "min length: 7\n",
      "mean length:180\n",
      "median length:176\n"
     ]
    }
   ],
   "source": [
    "df = shorten_content_all(df, config.max_len)"
   ]
  },
  {
   "cell_type": "code",
   "execution_count": 37,
   "metadata": {},
   "outputs": [
    {
     "name": "stdout",
     "output_type": "stream",
     "text": [
      "1093\n"
     ]
    }
   ],
   "source": [
    "s = build_answer_range(df)"
   ]
  },
  {
   "cell_type": "code",
   "execution_count": 55,
   "metadata": {
    "collapsed": true
   },
   "outputs": [],
   "source": [
    "tmp = df.sample()"
   ]
  },
  {
   "cell_type": "code",
   "execution_count": 56,
   "metadata": {},
   "outputs": [
    {
     "data": {
      "text/plain": [
       "'朝鲜试射洲际弹道导弹 中方表示严重关切和反对。针对有关朝鲜试射“火星-15”型洲际弹道导弹的报道，外交部发言人耿爽29日表示，中方对朝方有关发射活动表示严重关切和反对。 在当日例行记者会上，有记者问，朝中社发布消息称，朝鲜于今天凌晨成功试射“火星-15”型洲际弹道导弹，中方对此有何评论？ 耿爽说，联合国安理会决议对朝鲜利用弹道导弹技术进行发射活动有明确规定。中方对朝方有关发射活动表示严重关切和反对。 “中方强烈敦促朝方遵守安理会相关决议，停止采取加剧半岛紧张的行动。同时希望有关各方慎重行事，共同维护本地区和平稳定。（记者闫子敏）'"
      ]
     },
     "execution_count": 56,
     "metadata": {},
     "output_type": "execute_result"
    }
   ],
   "source": [
    "merge = tmp['merge'].values[0]\n",
    "merge"
   ]
  },
  {
   "cell_type": "code",
   "execution_count": 57,
   "metadata": {},
   "outputs": [
    {
     "data": {
      "text/plain": [
       "'“火星-15”型洲际弹道导弹'"
      ]
     },
     "execution_count": 57,
     "metadata": {},
     "output_type": "execute_result"
    }
   ],
   "source": [
    "answer = tmp['answer'].values[0]\n",
    "answer"
   ]
  },
  {
   "cell_type": "code",
   "execution_count": 58,
   "metadata": {},
   "outputs": [
    {
     "data": {
      "text/plain": [
       "'朝中社发布消息称，朝鲜于今天凌晨成功试射了什么导弹'"
      ]
     },
     "execution_count": 58,
     "metadata": {},
     "output_type": "execute_result"
    }
   ],
   "source": [
    "question = tmp['question'].values[0]\n",
    "question"
   ]
  },
  {
   "cell_type": "code",
   "execution_count": null,
   "metadata": {
    "collapsed": true
   },
   "outputs": [],
   "source": []
  },
  {
   "cell_type": "code",
   "execution_count": null,
   "metadata": {
    "collapsed": true
   },
   "outputs": [],
   "source": []
  },
  {
   "cell_type": "code",
   "execution_count": null,
   "metadata": {
    "collapsed": true
   },
   "outputs": [],
   "source": []
  },
  {
   "cell_type": "code",
   "execution_count": null,
   "metadata": {
    "collapsed": true
   },
   "outputs": [],
   "source": []
  },
  {
   "cell_type": "code",
   "execution_count": 36,
   "metadata": {
    "collapsed": true
   },
   "outputs": [],
   "source": [
    "def build_answer_range(df):\n",
    "    def match(merge, answer):\n",
    "        merge_list = jieba.lcut(merge)\n",
    "        merge_len = len(merge_list)\n",
    "        answer_list = jieba.lcut(answer)\n",
    "        answer_len = len(answer_list)\n",
    "        start = -1\n",
    "        end = -1\n",
    "        flag = -1\n",
    "        for i in range(0, merge_len-answer_len+1):\n",
    "            if merge_list[i: i+answer_len] == answer_list and flag == -1:\n",
    "                flag = 0\n",
    "                continue\n",
    "            if merge_list[i: i+answer_len] == answer_list and flag == 0:\n",
    "                flag = 1\n",
    "\n",
    "        return flag\n",
    "\n",
    "    merges = df[df['is_in']]['merge'].values\n",
    "    answers = df[df['is_in']]['answer'].values\n",
    "    c = 0\n",
    "    for m, a in zip(merges, answers):\n",
    "        s = match(m, a)\n",
    "        if s == 1:\n",
    "            c += 1\n",
    "    print(c)\n",
    "#     answer_range = [match(m, a) for m, a in zip(merges, answers)]\n",
    "\n",
    "#     start, end = list(zip(*answer_range))\n",
    "#     df.loc[df['is_in'], 'answer_start'] = start\n",
    "#     df.loc[df['is_in'], 'answer_end'] = end\n",
    "\n",
    "#     merge_len = len(merges)\n",
    "#     right_len = (df['answer_start'] > -1).sum()\n",
    "#     print('answer generation accuracy: %.4f\\n' % (right_len/merge_len))\n",
    "\n",
    "    return df"
   ]
  },
  {
   "cell_type": "code",
   "execution_count": null,
   "metadata": {
    "collapsed": true
   },
   "outputs": [],
   "source": []
  },
  {
   "cell_type": "code",
   "execution_count": null,
   "metadata": {
    "collapsed": true
   },
   "outputs": [],
   "source": []
  },
  {
   "cell_type": "code",
   "execution_count": null,
   "metadata": {
    "collapsed": true
   },
   "outputs": [],
   "source": []
  },
  {
   "cell_type": "code",
   "execution_count": null,
   "metadata": {
    "collapsed": true
   },
   "outputs": [],
   "source": []
  },
  {
   "cell_type": "code",
   "execution_count": null,
   "metadata": {
    "collapsed": true
   },
   "outputs": [],
   "source": []
  },
  {
   "cell_type": "code",
   "execution_count": null,
   "metadata": {
    "collapsed": true
   },
   "outputs": [],
   "source": []
  },
  {
   "cell_type": "code",
   "execution_count": null,
   "metadata": {
    "collapsed": true
   },
   "outputs": [],
   "source": []
  },
  {
   "cell_type": "code",
   "execution_count": null,
   "metadata": {
    "collapsed": true
   },
   "outputs": [],
   "source": []
  },
  {
   "cell_type": "code",
   "execution_count": null,
   "metadata": {
    "collapsed": true
   },
   "outputs": [],
   "source": []
  },
  {
   "cell_type": "code",
   "execution_count": null,
   "metadata": {
    "collapsed": true
   },
   "outputs": [],
   "source": []
  },
  {
   "cell_type": "code",
   "execution_count": null,
   "metadata": {
    "collapsed": true
   },
   "outputs": [],
   "source": []
  },
  {
   "cell_type": "code",
   "execution_count": null,
   "metadata": {
    "collapsed": true
   },
   "outputs": [],
   "source": []
  },
  {
   "cell_type": "code",
   "execution_count": null,
   "metadata": {
    "collapsed": true
   },
   "outputs": [],
   "source": []
  },
  {
   "cell_type": "code",
   "execution_count": null,
   "metadata": {
    "collapsed": true
   },
   "outputs": [],
   "source": []
  },
  {
   "cell_type": "code",
   "execution_count": null,
   "metadata": {
    "collapsed": true
   },
   "outputs": [],
   "source": []
  },
  {
   "cell_type": "code",
   "execution_count": null,
   "metadata": {
    "collapsed": true
   },
   "outputs": [],
   "source": []
  },
  {
   "cell_type": "code",
   "execution_count": null,
   "metadata": {
    "collapsed": true
   },
   "outputs": [],
   "source": []
  },
  {
   "cell_type": "code",
   "execution_count": null,
   "metadata": {
    "collapsed": true
   },
   "outputs": [],
   "source": []
  },
  {
   "cell_type": "code",
   "execution_count": null,
   "metadata": {
    "collapsed": true
   },
   "outputs": [],
   "source": []
  },
  {
   "cell_type": "code",
   "execution_count": null,
   "metadata": {
    "collapsed": true
   },
   "outputs": [],
   "source": []
  }
 ],
 "metadata": {
  "kernelspec": {
   "display_name": "Python 3",
   "language": "python",
   "name": "python3"
  },
  "language_info": {
   "codemirror_mode": {
    "name": "ipython",
    "version": 3
   },
   "file_extension": ".py",
   "mimetype": "text/x-python",
   "name": "python",
   "nbconvert_exporter": "python",
   "pygments_lexer": "ipython3",
   "version": "3.6.2"
  }
 },
 "nbformat": 4,
 "nbformat_minor": 2
}
