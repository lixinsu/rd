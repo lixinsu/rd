{
 "cells": [
  {
   "cell_type": "code",
   "execution_count": 69,
   "metadata": {},
   "outputs": [],
   "source": [
    "df = organize_data(config.train_data)"
   ]
  },
  {
   "cell_type": "code",
   "execution_count": 70,
   "metadata": {
    "collapsed": true
   },
   "outputs": [],
   "source": [
    "df = deal_data(df)"
   ]
  },
  {
   "cell_type": "code",
   "execution_count": 72,
   "metadata": {},
   "outputs": [
    {
     "data": {
      "text/plain": [
       "145"
      ]
     },
     "execution_count": 72,
     "metadata": {},
     "output_type": "execute_result"
    }
   ],
   "source": [
    "max(question_len)"
   ]
  },
  {
   "cell_type": "code",
   "execution_count": 63,
   "metadata": {
    "collapsed": true
   },
   "outputs": [],
   "source": [
    "model = Rnn(mode='GRU', input_size=2, hidden_size=3,dropout_p=0.2, bidirectional=True,layer_num=1, is_bn=False)"
   ]
  },
  {
   "cell_type": "code",
   "execution_count": 64,
   "metadata": {
    "collapsed": true
   },
   "outputs": [],
   "source": [
    "a = torch.randn(3, 2, 2)"
   ]
  },
  {
   "cell_type": "code",
   "execution_count": 65,
   "metadata": {
    "collapsed": true
   },
   "outputs": [],
   "source": [
    "mask = torch.Tensor([[1, 0, 0], [1,1,0]])"
   ]
  },
  {
   "cell_type": "code",
   "execution_count": 66,
   "metadata": {},
   "outputs": [],
   "source": [
    "r, m = model(a, mask)"
   ]
  },
  {
   "cell_type": "code",
   "execution_count": 67,
   "metadata": {},
   "outputs": [
    {
     "data": {
      "text/plain": [
       "tensor([[[-0.1072,  0.0905,  0.1096,  0.0461,  0.0109, -0.0502],\n",
       "         [ 0.0835, -0.1767, -0.0564, -0.2180, -0.2487,  0.1661]],\n",
       "\n",
       "        [[ 0.0000,  0.0000,  0.0000,  0.0000,  0.0000,  0.0000],\n",
       "         [ 0.2516, -0.5362, -0.5890, -0.3020,  0.3067,  0.3731]]])"
      ]
     },
     "execution_count": 67,
     "metadata": {},
     "output_type": "execute_result"
    }
   ],
   "source": [
    "r"
   ]
  },
  {
   "cell_type": "code",
   "execution_count": 68,
   "metadata": {},
   "outputs": [
    {
     "data": {
      "text/plain": [
       "tensor([[ 1.,  0.],\n",
       "        [ 1.,  1.]])"
      ]
     },
     "execution_count": 68,
     "metadata": {},
     "output_type": "execute_result"
    }
   ],
   "source": [
    "m"
   ]
  },
  {
   "cell_type": "code",
   "execution_count": 62,
   "metadata": {
    "collapsed": true
   },
   "outputs": [],
   "source": [
    "# coding = utf-8\n",
    "# author = xy\n",
    "\n",
    "import torch\n",
    "from torch import nn\n",
    "\n",
    "\n",
    "class Rnn(nn.Module):\n",
    "    def __init__(self, mode, input_size, hidden_size, dropout_p, bidirectional, layer_num, is_bn):\n",
    "        super(Rnn, self).__init__()\n",
    "\n",
    "        self.mode = mode\n",
    "        self.input_size = input_size\n",
    "        self.hidden_size = hidden_size\n",
    "        self.dropout_p = dropout_p\n",
    "        self.direction_num = bidirectional\n",
    "        self.layer_num = layer_num\n",
    "        self.is_bn = is_bn\n",
    "\n",
    "        if mode == 'LSTM':\n",
    "            self.rnn = nn.LSTM(\n",
    "                input_size=input_size,\n",
    "                hidden_size=hidden_size,\n",
    "                num_layers=layer_num,\n",
    "                bidirectional=bidirectional,\n",
    "                dropout=dropout_p if layer_num > 1 else 0\n",
    "            )\n",
    "        elif mode == 'GRU':\n",
    "            self.rnn = nn.GRU(\n",
    "                input_size=input_size,\n",
    "                hidden_size=hidden_size,\n",
    "                num_layers=layer_num,\n",
    "                bidirectional=bidirectional,\n",
    "                dropout=dropout_p if layer_num > 1 else 0\n",
    "            )\n",
    "        if is_bn:\n",
    "            self.layer_norm = nn.LayerNorm(input_size)\n",
    "        self.drop = nn.Dropout(p=dropout_p)\n",
    "        self.reset_parameters()\n",
    "\n",
    "    def reset_parameters(self):\n",
    "        \"\"\" use xavier_uniform to initialize GRU/LSTM weights\"\"\"\n",
    "        ih = (param for name, param in self.named_parameters() if 'weight_ih' in name)\n",
    "        hh = (param for name, param in self.named_parameters() if 'weight_hh' in name)\n",
    "        b = (param for name, param in self.named_parameters() if 'bias' in name)\n",
    "\n",
    "        for t in ih:\n",
    "            torch.nn.init.xavier_uniform_(t)\n",
    "        for t in hh:\n",
    "            torch.nn.init.orthogonal_(t)\n",
    "        for t in b:\n",
    "            torch.nn.init.constant_(t, 0)\n",
    "\n",
    "    def forward(self, vec, mask):\n",
    "        \"\"\"\n",
    "        :param vec: tensor (seq_len, batch_size, input_size)\n",
    "        :param mask: tensor (batch_size, seq_len)\n",
    "        :return: outputs: tensor (seq_len, batch_size, hidden_size*bidirectional)\n",
    "        \"\"\"\n",
    "        # layer normalization\n",
    "        if self.is_bn:\n",
    "            seq_len, batch_size, input_size = vec.shape\n",
    "            vec = vec.contiguous().view(-1, input_size)\n",
    "            vec = self.layer_norm(vec)\n",
    "            vec = vec.view(seq_len, batch_size, input_size)\n",
    "\n",
    "        # dropout\n",
    "        vec = self.drop(vec)\n",
    "\n",
    "        # 这种方式\n",
    "        lengths = mask.long().sum(1)\n",
    "        lengths_sort, idx_sort = torch.sort(lengths, descending=True)\n",
    "        _, idx_unsort = torch.sort(idx_sort)\n",
    "\n",
    "        v_sort = vec.index_select(1, idx_sort)\n",
    "        v_pack = nn.utils.rnn.pack_padded_sequence(v_sort, lengths_sort)\n",
    "        outputs, _ = self.rnn(v_pack, None)\n",
    "        outputs, _ = nn.utils.rnn.pad_packed_sequence(outputs)\n",
    "        outputs = outputs.index_select(1, idx_unsort)\n",
    "\n",
    "        # rnn, not state 注： 这种效果会比上面的好，但是不同batch_size, 输出结果不同\n",
    "        # outputs, _ = self.rnn(vec, None)\n",
    "        # outputs = mask.transpose(0, 1).unsqueeze(2) * outputs\n",
    "        max_len = torch.max(lengths).item()\n",
    "        seq_len = vec.size(0)\n",
    "        if max_len != seq_len:\n",
    "            pad_len = seq_len - max_len\n",
    "            batch_size = vec.size(1)\n",
    "            hidden_size = self.hidden_size * 2 if self.direction_num else self.hidden_size\n",
    "            padding = outputs.new_zeros(pad_len, batch_size, hidden_size)\n",
    "            outputs = torch.cat([outputs, padding], dim=0)\n",
    "        \n",
    "        \n",
    "       \n",
    "        \n",
    "        \n",
    "        \n",
    "        return outputs\n"
   ]
  },
  {
   "cell_type": "code",
   "execution_count": null,
   "metadata": {
    "collapsed": true
   },
   "outputs": [],
   "source": []
  },
  {
   "cell_type": "code",
   "execution_count": null,
   "metadata": {
    "collapsed": true
   },
   "outputs": [],
   "source": []
  },
  {
   "cell_type": "code",
   "execution_count": null,
   "metadata": {
    "collapsed": true
   },
   "outputs": [],
   "source": []
  },
  {
   "cell_type": "code",
   "execution_count": null,
   "metadata": {
    "collapsed": true
   },
   "outputs": [],
   "source": []
  },
  {
   "cell_type": "code",
   "execution_count": null,
   "metadata": {
    "collapsed": true
   },
   "outputs": [],
   "source": []
  },
  {
   "cell_type": "code",
   "execution_count": null,
   "metadata": {
    "collapsed": true
   },
   "outputs": [],
   "source": []
  },
  {
   "cell_type": "code",
   "execution_count": null,
   "metadata": {
    "collapsed": true
   },
   "outputs": [],
   "source": []
  }
 ],
 "metadata": {
  "kernelspec": {
   "display_name": "Python 3",
   "language": "python",
   "name": "python3"
  },
  "language_info": {
   "codemirror_mode": {
    "name": "ipython",
    "version": 3
   },
   "file_extension": ".py",
   "mimetype": "text/x-python",
   "name": "python",
   "nbconvert_exporter": "python",
   "pygments_lexer": "ipython3",
   "version": "3.6.2"
  }
 },
 "nbformat": 4,
 "nbformat_minor": 2
}
