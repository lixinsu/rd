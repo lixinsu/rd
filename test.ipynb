{
 "cells": [
  {
   "cell_type": "markdown",
   "metadata": {},
   "source": [
    "# test"
   ]
  },
  {
   "cell_type": "code",
   "execution_count": 1,
   "metadata": {
    "collapsed": true
   },
   "outputs": [],
   "source": [
    "import os\n",
    "import time\n",
    "import numpy as np\n",
    "import matplotlib.pyplot as plt\n",
    "import loader\n",
    "import torch\n",
    "from torch import optim\n",
    "from torch import nn\n",
    "from config import config_base\n",
    "from config import config_r_net\n",
    "from config import config_match_lstm\n",
    "from config import config_bi_daf\n",
    "import preprocess_data\n",
    "import utils\n",
    "from modules.layers.loss import MyNLLLoss\n",
    "from modules import match_lstm\n",
    "from modules import r_net\n",
    "from modules import bi_daf\n",
    "import torch\n",
    "from torch import nn\n",
    "from torch.nn import functional as f\n",
    "from modules.layers import embedding\n",
    "from modules.layers import encoder\n",
    "import utils\n",
    "\n",
    "\n",
    "# config\n",
    "# config = config_match_lstm.config\n",
    "# config = config_r_net.config\n",
    "config = config_bi_daf.config"
   ]
  },
  {
   "cell_type": "code",
   "execution_count": 2,
   "metadata": {},
   "outputs": [
    {
     "name": "stdout",
     "output_type": "stream",
     "text": [
      "load data...\n"
     ]
    },
    {
     "name": "stderr",
     "output_type": "stream",
     "text": [
      "Building prefix dict from the default dictionary ...\n",
      "Loading model from cache /tmp/jieba.cache\n",
      "Loading model cost 0.471 seconds.\n",
      "Prefix dict has been built succesfully.\n"
     ]
    },
    {
     "name": "stdout",
     "output_type": "stream",
     "text": [
      "load data finished, time:92\n"
     ]
    }
   ],
   "source": [
    "    time_start = time.time()\n",
    "    # prepare: collect, vocab, embedding\n",
    "    preprocess_data.gen_pre_file()\n",
    "    # load vocab\n",
    "    lang = loader.load_vocab(config.vocab_path)\n",
    "    # load w2v\n",
    "    embedding_np = loader.load_w2v(config.embedding_path)\n",
    "\n",
    "    # prepare: train_df, val_df\n",
    "    if (os.path.isfile(config.train_df) is False) or (os.path.isfile(config.val_df) is False) or \\\n",
    "            (os.path.isfile(config.test_df) is False):\n",
    "        print('gen train_df.csv, val_df.csv, test_df.csv')\n",
    "        time0 = time.time()\n",
    "        preprocess_data.gen_train_datafile()\n",
    "        print('gen train_df.csv, val_df.csv, test_df.csv. time:%d' % (time.time()-time0))\n",
    "    # load data: merge, question, answer_start, answer_end\n",
    "    print('load data...')\n",
    "    time0 = time.time()\n",
    "    train_data = loader.load_data(config.train_df, lang)\n",
    "    val_data = loader.load_data(config.val_df, lang)\n",
    "    print('load data finished, time:%d' % (time.time()-time0))\n",
    "\n",
    "    # build train, val dataloader\n",
    "    train_loader = loader.build_loader(\n",
    "        dataset=train_data,\n",
    "        batch_size=3,\n",
    "        shuffle=True,\n",
    "        drop_last=True\n",
    "    )\n",
    "    val_loader = loader.build_loader(\n",
    "        dataset=val_data,\n",
    "        batch_size=config.batch_size,\n",
    "        shuffle=False,\n",
    "        drop_last=True\n",
    "    )\n",
    "\n",
    "    # model:\n",
    "    param = {\n",
    "        'embedding': embedding_np,\n",
    "        'embedding_type': config.embedding_type,\n",
    "        'embedding_is_training': config.embedding_is_training,\n",
    "        'mode': config.mode,\n",
    "        'hidden_size': config.hidden_size,\n",
    "        'dropout_p': config.dropout_p,\n",
    "        'encoder_dropout_p': config.encoder_dropout_p,\n",
    "        'encoder_bidirectional': config.encoder_bidirectional,\n",
    "        'encoder_layer_num': config.encoder_layer_num,\n",
    "        'is_bn': config.is_bn\n",
    "    }"
   ]
  },
  {
   "cell_type": "code",
   "execution_count": 5,
   "metadata": {
    "collapsed": true
   },
   "outputs": [],
   "source": [
    "\n",
    "for i, batch in enumerate(train_loader):\n",
    "    xx=batch\n",
    "    break"
   ]
  },
  {
   "cell_type": "code",
   "execution_count": 7,
   "metadata": {
    "collapsed": true
   },
   "outputs": [],
   "source": [
    "batch = utils.deal_batch(xx)"
   ]
  },
  {
   "cell_type": "code",
   "execution_count": 8,
   "metadata": {
    "collapsed": true
   },
   "outputs": [],
   "source": [
    "model = Model(param)\n",
    "model = model.cuda()\n",
    "criterion = MyNLLLoss()"
   ]
  },
  {
   "cell_type": "code",
   "execution_count": 21,
   "metadata": {
    "collapsed": true
   },
   "outputs": [],
   "source": [
    "optimizer = optim.Adam(model.parameters(), lr=config.lr)"
   ]
  },
  {
   "cell_type": "code",
   "execution_count": 10,
   "metadata": {},
   "outputs": [],
   "source": [
    "outputs = model(batch)"
   ]
  },
  {
   "cell_type": "code",
   "execution_count": 20,
   "metadata": {},
   "outputs": [],
   "source": [
    "for i in outputs.data.cpu().numpy().flatten():\n",
    "    if -1<i<1:\n",
    "        continue\n",
    "    else:\n",
    "        print(i)"
   ]
  },
  {
   "cell_type": "code",
   "execution_count": 52,
   "metadata": {
    "collapsed": true
   },
   "outputs": [],
   "source": [
    "optimizer.zero_grad()"
   ]
  },
  {
   "cell_type": "code",
   "execution_count": 53,
   "metadata": {
    "collapsed": true
   },
   "outputs": [],
   "source": [
    "outputs = model(batch)"
   ]
  },
  {
   "cell_type": "code",
   "execution_count": 54,
   "metadata": {},
   "outputs": [
    {
     "data": {
      "text/plain": [
       "tensor([[[ 7.3195e-03,  6.7439e-03,  6.9943e-03,  ...,  1.0000e-06,\n",
       "           1.0000e-06,  1.0000e-06],\n",
       "         [ 4.5989e-03,  3.3401e-03,  4.8913e-03,  ...,  4.8429e-03,\n",
       "           4.7622e-03,  4.7804e-03],\n",
       "         [ 4.7418e-03,  5.5454e-03,  2.9850e-03,  ...,  1.0000e-06,\n",
       "           1.0000e-06,  1.0000e-06]],\n",
       "\n",
       "        [[ 7.3974e-03,  7.4598e-03,  7.5624e-03,  ...,  1.0000e-06,\n",
       "           1.0000e-06,  1.0000e-06],\n",
       "         [ 5.2656e-03,  6.1020e-03,  4.9826e-03,  ...,  5.1035e-03,\n",
       "           5.0299e-03,  5.1687e-03],\n",
       "         [ 5.9873e-03,  6.3974e-03,  4.9574e-03,  ...,  1.0000e-06,\n",
       "           1.0000e-06,  1.0000e-06]]], device='cuda:0')"
      ]
     },
     "execution_count": 54,
     "metadata": {},
     "output_type": "execute_result"
    }
   ],
   "source": [
    "outputs"
   ]
  },
  {
   "cell_type": "code",
   "execution_count": 55,
   "metadata": {
    "collapsed": true
   },
   "outputs": [],
   "source": [
    "loss_value = criterion(outputs, batch)"
   ]
  },
  {
   "cell_type": "code",
   "execution_count": 56,
   "metadata": {},
   "outputs": [],
   "source": [
    "loss_value.backward()"
   ]
  },
  {
   "cell_type": "code",
   "execution_count": 57,
   "metadata": {
    "collapsed": true
   },
   "outputs": [],
   "source": [
    "optimizer.step()"
   ]
  },
  {
   "cell_type": "code",
   "execution_count": 58,
   "metadata": {},
   "outputs": [
    {
     "data": {
      "text/plain": [
       "tensor(10.4183, device='cuda:0')"
      ]
     },
     "execution_count": 58,
     "metadata": {},
     "output_type": "execute_result"
    }
   ],
   "source": [
    "loss_value"
   ]
  },
  {
   "cell_type": "code",
   "execution_count": 6,
   "metadata": {
    "collapsed": true
   },
   "outputs": [],
   "source": [
    "class Model(nn.Module):\n",
    "    \"\"\" bi-rdf for reading comprehension \"\"\"\n",
    "    def __init__(self, param):\n",
    "        super(Model, self).__init__()\n",
    "\n",
    "        self.embedding_type = param['embedding_type']\n",
    "        self.mode = param['mode']\n",
    "        self.hidden_size = param['hidden_size']\n",
    "        self.dropout_p = param['dropout_p']\n",
    "        self.encoder_dropout_p = param['encoder_dropout_p']\n",
    "        self.encoder_layer_num = param['encoder_layer_num']\n",
    "        self.is_bn = param['is_bn']\n",
    "\n",
    "        # embedding\n",
    "        if self.embedding_type == 'standard':\n",
    "            self.embedding = embedding.Embedding(param['embedding'])\n",
    "            is_bn = False\n",
    "        else:\n",
    "            is_bn = True\n",
    "\n",
    "        # encode\n",
    "        self.encoder = encoder.Rnn(\n",
    "            mode=self.mode,\n",
    "            input_size=self.embedding.embedding_dim,\n",
    "            hidden_size=self.hidden_size,\n",
    "            dropout_p=self.encoder_dropout_p,\n",
    "            bidirectional=True,\n",
    "            layer_num=self.encoder_layer_num,\n",
    "            is_bn=is_bn\n",
    "        )\n",
    "\n",
    "        # attention flow layer\n",
    "        self.att_c = nn.Linear(self.hidden_size*2, 1)\n",
    "        self.att_q = nn.Linear(self.hidden_size*2, 1)\n",
    "        self.att_cq = nn.Linear(self.hidden_size*2, 1)\n",
    "\n",
    "        # modeling layer\n",
    "        self.modeling_rnn = encoder.Rnn(\n",
    "            mode=self.mode,\n",
    "            input_size=self.hidden_size*8,\n",
    "            hidden_size=self.hidden_size,\n",
    "            dropout_p=self.dropout_p,\n",
    "            bidirectional=True,\n",
    "            layer_num=2,\n",
    "            is_bn=self.is_bn\n",
    "        )\n",
    "\n",
    "        # outputs\n",
    "        self.p1 = nn.Linear(self.hidden_size*10, 1)\n",
    "        self.p2 = nn.Linear(self.hidden_size*10, 1)\n",
    "\n",
    "        self.rnn = encoder.Rnn(\n",
    "            mode=self.mode,\n",
    "            input_size=self.hidden_size*2,\n",
    "            hidden_size=self.hidden_size,\n",
    "            bidirectional=True,\n",
    "            dropout_p=self.dropout_p,\n",
    "            layer_num=1,\n",
    "            is_bn=self.is_bn\n",
    "        )\n",
    "\n",
    "        self.dropout = nn.Dropout(self.dropout_p)\n",
    "\n",
    "    def forward(self, batch):\n",
    "        \"\"\"\n",
    "        :param batch: [content, question, answer_start, answer_end]\n",
    "        :return: ans_range (2, batch_size, content_len)\n",
    "        \"\"\"\n",
    "        def att_flow_layer(c, c_mask, q, q_mask):\n",
    "            \"\"\"\n",
    "            attention flow layer\n",
    "            :param c: (c_len, batch_size, hidden_size*2)\n",
    "            :param c_mask: (batch_size, c_len)\n",
    "            :param q: (q_len, batch_size, hidden_size*2)\n",
    "            :param q_mask: (batch_size, q_len)\n",
    "            :return: g (c_len, batch_size, hidden_size*8)\n",
    "            \"\"\"\n",
    "            c_len = c.size(0)\n",
    "            q_len = q.size(0)\n",
    "            batch_size = c.size(1)\n",
    "\n",
    "            c = self.dropout(c)\n",
    "            q = self.dropout(q)\n",
    "\n",
    "            c = c.transpose(0, 1)\n",
    "            q = q.transpose(0, 1)\n",
    "            cq = c.unsqueeze(2).expand(batch_size, c_len, q_len, -1) * \\\n",
    "                 q.unsqueeze(1).expand(batch_size, c_len, q_len, -1)\n",
    "            cq = self.att_cq(cq).squeeze(3)  # (batch_size, c_len, q_len)\n",
    "\n",
    "            s = self.att_c(c).expand(batch_size, c_len, q_len) + \\\n",
    "                self.att_q(q).expand(batch_size, q_len, c_len).transpose(1, 2) + \\\n",
    "                cq\n",
    "\n",
    "            # 除掉空位\n",
    "            mask = c_mask.eq(0)\n",
    "            mask = mask.unsqueeze(2).expand(batch_size, c_len, q_len)\n",
    "            s.masked_fill_(mask, -1e-6)\n",
    "\n",
    "            mask = q_mask.eq(0)\n",
    "            mask = mask.unsqueeze(1).expand(batch_size, c_len, q_len)\n",
    "            s.masked_fill_(mask, -1e-6)\n",
    "\n",
    "            # c2q\n",
    "            a = f.softmax(s, dim=2)\n",
    "            c2q = torch.bmm(a, q)  # (batch_size, c_len, hidden_size*2)\n",
    "\n",
    "            # q2c\n",
    "            b = torch.max(s, dim=2)[0]\n",
    "            b = f.softmax(b, dim=1)  # (batch_size, c_len)\n",
    "            q2c = torch.bmm(b.unsqueeze(1), c).expand(batch_size, c_len, -1)  # (batch_size, c_len, hidden_size*2)\n",
    "\n",
    "            x = torch.cat([c, c2q, c*c2q, c*q2c], dim=2)\n",
    "            x = c_mask.unsqueeze(2) * x\n",
    "            x = x.transpose(0, 1)\n",
    "\n",
    "            return x\n",
    "\n",
    "        def output_layer(g, m, c_mask):\n",
    "            \"\"\"\n",
    "            output layer\n",
    "            :param g: (c_len, batch_size, hidden_size*8)\n",
    "            :param m: (c_len, batch_size, hidden_size*2)\n",
    "            :param c_mask: (batch_size, c_len)\n",
    "            :return: ans_range(2, batch_size, content_len)\n",
    "            \"\"\"\n",
    "            gm = self.dropout(torch.cat([g, m], dim=2))\n",
    "            p1 = self.p1(gm).squeeze(2).transpose(0, 1)  # (batch_size, c_len)\n",
    "\n",
    "            m = self.rnn(m, c_mask)\n",
    "            gm = self.dropout(torch.cat([g, m], dim=2))\n",
    "            p2 = self.p2(gm).squeeze(2).transpose(0, 1)  # (batch_size, c_len)\n",
    "\n",
    "            mask = c_mask.eq(0)\n",
    "            p1.masked_fill_(mask, -float('inf'))\n",
    "            p1 = f.softmax(p1, dim=1)\n",
    "            p2.masked_fill_(mask, -float('inf'))\n",
    "            p2 = f.softmax(p2, dim=1)\n",
    "\n",
    "            result = torch.stack([p1, p2])\n",
    "\n",
    "            # add 1e-6, and no gradient explosion\n",
    "            new_mask = (c_mask - 1) * (-1e-6)\n",
    "            result = result + new_mask.unsqueeze(0)\n",
    "\n",
    "            return result\n",
    "\n",
    "        content = batch[0]\n",
    "        question = batch[1]\n",
    "\n",
    "        # mask\n",
    "        content_mask = utils.get_mask(content)\n",
    "        question_mask = utils.get_mask(question)\n",
    "\n",
    "        # embedding\n",
    "        content_vec = self.embedding(content)\n",
    "        question_vec = self.embedding(question)\n",
    "\n",
    "        # encode\n",
    "        content_vec = self.encoder(content_vec, content_mask)\n",
    "        question_vec = self.encoder(question_vec, question_mask)\n",
    "\n",
    "        # attention flow layer\n",
    "        g = att_flow_layer(content_vec, content_mask, question_vec, question_mask)\n",
    "\n",
    "        # modeling layer\n",
    "        m = self.modeling_rnn(g, content_mask)\n",
    "\n",
    "        # outputs\n",
    "        ans_range = output_layer(g, m, content_mask)\n",
    "\n",
    "        return ans_range"
   ]
  }
 ],
 "metadata": {
  "kernelspec": {
   "display_name": "Python 3",
   "language": "python",
   "name": "python3"
  },
  "language_info": {
   "codemirror_mode": {
    "name": "ipython",
    "version": 3
   },
   "file_extension": ".py",
   "mimetype": "text/x-python",
   "name": "python",
   "nbconvert_exporter": "python",
   "pygments_lexer": "ipython3",
   "version": "3.6.2"
  }
 },
 "nbformat": 4,
 "nbformat_minor": 2
}
