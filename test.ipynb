{
 "cells": [
  {
   "cell_type": "code",
   "execution_count": 1,
   "metadata": {
    "collapsed": true
   },
   "outputs": [],
   "source": [
    "import torch\n",
    "from torch import nn\n",
    "from torch.nn import functional as f"
   ]
  },
  {
   "cell_type": "code",
   "execution_count": 17,
   "metadata": {},
   "outputs": [],
   "source": [
    "a = torch.Tensor([[-2.3543e+00, -9.5574e+00,  3.2396e+01,  1.0000e-30,\n",
    "          1.0000e-30,  1.0000e-30],\n",
    "        [-5.7400e+00, -3.9120e+01, -1.2789e+01,   1.0000e-30,\n",
    "          1.0000e-30,  1.0000e-30],\n",
    "        [ 6.5512e+00,  1.3471e+01, -1.8644e+01,   1.0000e-30,\n",
    "          1.0000e-30,  1.0000e-30]])"
   ]
  },
  {
   "cell_type": "code",
   "execution_count": 18,
   "metadata": {},
   "outputs": [
    {
     "data": {
      "text/plain": [
       "tensor([[ 8.0935e-16,  6.0238e-19,  1.0000e+00,  8.5231e-15,  8.5231e-15,\n",
       "          8.5231e-15],\n",
       "        [ 1.0704e-03,  3.4105e-18,  9.2944e-07,  3.3298e-01,  3.3298e-01,\n",
       "          3.3298e-01],\n",
       "        [ 9.8705e-04,  9.9901e-01,  1.1277e-14,  1.4099e-06,  1.4099e-06,\n",
       "          1.4099e-06]])"
      ]
     },
     "execution_count": 18,
     "metadata": {},
     "output_type": "execute_result"
    }
   ],
   "source": [
    "f.softmax(a,dim=1)"
   ]
  },
  {
   "cell_type": "code",
   "execution_count": null,
   "metadata": {
    "collapsed": true
   },
   "outputs": [],
   "source": []
  },
  {
   "cell_type": "code",
   "execution_count": 3,
   "metadata": {},
   "outputs": [
    {
     "data": {
      "text/plain": [
       "[[1, 2, 3], [1, 2, 3], [1, 2, 3]]"
      ]
     },
     "execution_count": 3,
     "metadata": {},
     "output_type": "execute_result"
    }
   ],
   "source": [
    "a = [1,2,3]\n",
    "b = [a]*3\n",
    "b"
   ]
  },
  {
   "cell_type": "code",
   "execution_count": 4,
   "metadata": {},
   "outputs": [
    {
     "data": {
      "text/plain": [
       "[[5, 2, 3], [5, 2, 3], [5, 2, 3]]"
      ]
     },
     "execution_count": 4,
     "metadata": {},
     "output_type": "execute_result"
    }
   ],
   "source": [
    "b[0][0] = 5\n",
    "b"
   ]
  },
  {
   "cell_type": "code",
   "execution_count": 7,
   "metadata": {
    "collapsed": true
   },
   "outputs": [],
   "source": [
    "hidden_size = 128\n",
    "freqs = torch.Tensor(\n",
    "            [10000 ** (-i / hidden_size) if i % 2 == 0 else -10000 ** ((1 - i) / hidden_size) for i in range(hidden_size)])"
   ]
  },
  {
   "cell_type": "code",
   "execution_count": 8,
   "metadata": {},
   "outputs": [
    {
     "data": {
      "text/plain": [
       "tensor([ 1.0000, -1.0000,  0.8660, -0.8660,  0.7499, -0.7499,  0.6494,\n",
       "        -0.6494,  0.5623, -0.5623,  0.4870, -0.4870,  0.4217, -0.4217,\n",
       "         0.3652, -0.3652,  0.3162, -0.3162,  0.2738, -0.2738,  0.2371,\n",
       "        -0.2371,  0.2054, -0.2054,  0.1778, -0.1778,  0.1540, -0.1540,\n",
       "         0.1334, -0.1334,  0.1155, -0.1155,  0.1000, -0.1000,  0.0866,\n",
       "        -0.0866,  0.0750, -0.0750,  0.0649, -0.0649,  0.0562, -0.0562,\n",
       "         0.0487, -0.0487,  0.0422, -0.0422,  0.0365, -0.0365,  0.0316,\n",
       "        -0.0316,  0.0274, -0.0274,  0.0237, -0.0237,  0.0205, -0.0205,\n",
       "         0.0178, -0.0178,  0.0154, -0.0154,  0.0133, -0.0133,  0.0115,\n",
       "        -0.0115,  0.0100, -0.0100,  0.0087, -0.0087,  0.0075, -0.0075,\n",
       "         0.0065, -0.0065,  0.0056, -0.0056,  0.0049, -0.0049,  0.0042,\n",
       "        -0.0042,  0.0037, -0.0037,  0.0032, -0.0032,  0.0027, -0.0027,\n",
       "         0.0024, -0.0024,  0.0021, -0.0021,  0.0018, -0.0018,  0.0015,\n",
       "        -0.0015,  0.0013, -0.0013,  0.0012, -0.0012,  0.0010, -0.0010,\n",
       "         0.0009, -0.0009,  0.0007, -0.0007,  0.0006, -0.0006,  0.0006,\n",
       "        -0.0006,  0.0005, -0.0005,  0.0004, -0.0004,  0.0004, -0.0004,\n",
       "         0.0003, -0.0003,  0.0003, -0.0003,  0.0002, -0.0002,  0.0002,\n",
       "        -0.0002,  0.0002, -0.0002,  0.0002, -0.0002,  0.0001, -0.0001,\n",
       "         0.0001, -0.0001])"
      ]
     },
     "execution_count": 8,
     "metadata": {},
     "output_type": "execute_result"
    }
   ],
   "source": [
    "freqs"
   ]
  },
  {
   "cell_type": "code",
   "execution_count": 85,
   "metadata": {
    "collapsed": true
   },
   "outputs": [],
   "source": [
    "class Model(nn.Module):\n",
    "    def __init__(self):\n",
    "        super().__init__()\n",
    "        \n",
    "        self.l = nn.Linear(2,3)\n",
    "        self.deop = nn.Dropout(0.1)\n",
    "    \n",
    "    def forward(self,x):\n",
    "        x = self.deop(x)\n",
    "        return self.l(x)"
   ]
  },
  {
   "cell_type": "code",
   "execution_count": 86,
   "metadata": {
    "collapsed": true
   },
   "outputs": [],
   "source": [
    "a = Model()"
   ]
  },
  {
   "cell_type": "code",
   "execution_count": 87,
   "metadata": {},
   "outputs": [
    {
     "data": {
      "text/plain": [
       "tensor([[ 1.,  1.],\n",
       "        [ 1.,  1.],\n",
       "        [ 1.,  1.],\n",
       "        [ 1.,  1.],\n",
       "        [ 1.,  1.]])"
      ]
     },
     "execution_count": 87,
     "metadata": {},
     "output_type": "execute_result"
    }
   ],
   "source": [
    "b = torch.ones(5, 2)\n",
    "b"
   ]
  },
  {
   "cell_type": "code",
   "execution_count": 110,
   "metadata": {},
   "outputs": [
    {
     "data": {
      "text/plain": [
       "tensor([[ 0.3916, -0.5487, -0.4996],\n",
       "        [ 0.3916, -0.5487, -0.4996],\n",
       "        [ 0.3916, -0.5487, -0.4996],\n",
       "        [ 0.3916, -0.5487, -0.4996],\n",
       "        [ 0.3916, -0.5487, -0.4996]])"
      ]
     },
     "execution_count": 110,
     "metadata": {},
     "output_type": "execute_result"
    }
   ],
   "source": [
    "a(b)"
   ]
  },
  {
   "cell_type": "code",
   "execution_count": 96,
   "metadata": {},
   "outputs": [
    {
     "data": {
      "text/plain": [
       "Model(\n",
       "  (l): Linear(in_features=2, out_features=3, bias=True)\n",
       "  (deop): Dropout(p=0.1)\n",
       ")"
      ]
     },
     "execution_count": 96,
     "metadata": {},
     "output_type": "execute_result"
    }
   ],
   "source": [
    "a.eval()"
   ]
  },
  {
   "cell_type": "code",
   "execution_count": null,
   "metadata": {
    "collapsed": true
   },
   "outputs": [],
   "source": []
  },
  {
   "cell_type": "code",
   "execution_count": null,
   "metadata": {
    "collapsed": true
   },
   "outputs": [],
   "source": []
  },
  {
   "cell_type": "code",
   "execution_count": null,
   "metadata": {
    "collapsed": true
   },
   "outputs": [],
   "source": []
  }
 ],
 "metadata": {
  "kernelspec": {
   "display_name": "Python 3",
   "language": "python",
   "name": "python3"
  },
  "language_info": {
   "codemirror_mode": {
    "name": "ipython",
    "version": 3
   },
   "file_extension": ".py",
   "mimetype": "text/x-python",
   "name": "python",
   "nbconvert_exporter": "python",
   "pygments_lexer": "ipython3",
   "version": "3.6.2"
  }
 },
 "nbformat": 4,
 "nbformat_minor": 1
}
