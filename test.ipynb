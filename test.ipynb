{
 "cells": [
  {
   "cell_type": "code",
   "execution_count": 1,
   "metadata": {
    "collapsed": true,
    "scrolled": true
   },
   "outputs": [],
   "source": [
    "from pyhanlp import *"
   ]
  },
  {
   "cell_type": "code",
   "execution_count": 2,
   "metadata": {
    "collapsed": true
   },
   "outputs": [],
   "source": [
    "a = '你好，欢迎在Python中调用HanLP的API，美国国会要杀了他 你信吗？'"
   ]
  },
  {
   "cell_type": "code",
   "execution_count": 3,
   "metadata": {},
   "outputs": [
    {
     "name": "stdout",
     "output_type": "stream",
     "text": [
      "你好/vl\n",
      "，/w\n",
      "欢迎/v\n",
      "在/p\n",
      "Python/nx\n",
      "中/f\n",
      "调用/v\n",
      "HanLP/nx\n",
      "的/ude1\n",
      "API/nx\n",
      "，/w\n",
      "美国/nsf\n",
      "国会/nis\n",
      "要/v\n",
      "杀/v\n",
      "了/ule\n",
      "他/rr\n",
      " /w\n",
      "你/rr\n",
      "信/n\n",
      "吗/y\n",
      "？/w\n"
     ]
    }
   ],
   "source": [
    "for i in HanLP.segment(a):\n",
    "    print(i)"
   ]
  },
  {
   "cell_type": "code",
   "execution_count": 4,
   "metadata": {
    "collapsed": true
   },
   "outputs": [],
   "source": [
    "Config = JClass(\"com.hankcs.hanlp.HanLP$Config\")"
   ]
  },
  {
   "cell_type": "code",
   "execution_count": 5,
   "metadata": {
    "collapsed": true
   },
   "outputs": [],
   "source": [
    "Config.ShowTermNature = False"
   ]
  },
  {
   "cell_type": "code",
   "execution_count": 6,
   "metadata": {
    "collapsed": true
   },
   "outputs": [],
   "source": [
    "CRFSegment = JClass(\"com.hankcs.hanlp.seg.CRF.CRFSegment\")"
   ]
  },
  {
   "cell_type": "code",
   "execution_count": 7,
   "metadata": {},
   "outputs": [
    {
     "ename": "java.lang.IllegalArgumentExceptionPyRaisable",
     "evalue": "java.lang.IllegalArgumentException: CRF分词模型加载 /home/xy/anaconda3/lib/python3.6/site-packages/pyhanlp/static/data/model/segment/CRFSegmentModel.txt 失败，耗时 4 ms",
     "output_type": "error",
     "traceback": [
      "\u001b[0;31m---------------------------------------------------------------------------\u001b[0m",
      "\u001b[0;31mjava.lang.IllegalArgumentExceptionPyRaisable\u001b[0mTraceback (most recent call last)",
      "\u001b[0;32m<ipython-input-7-6a7befb7bd08>\u001b[0m in \u001b[0;36m<module>\u001b[0;34m()\u001b[0m\n\u001b[0;32m----> 1\u001b[0;31m \u001b[0msegment\u001b[0m \u001b[0;34m=\u001b[0m \u001b[0mCRFSegment\u001b[0m\u001b[0;34m(\u001b[0m\u001b[0;34m)\u001b[0m\u001b[0;34m.\u001b[0m\u001b[0menableCustomDictionary\u001b[0m\u001b[0;34m(\u001b[0m\u001b[0;32mTrue\u001b[0m\u001b[0;34m)\u001b[0m\u001b[0;34m\u001b[0m\u001b[0m\n\u001b[0m",
      "\u001b[0;32m~/anaconda3/lib/python3.6/site-packages/jpype/_jclass.py\u001b[0m in \u001b[0;36m_javaInit\u001b[0;34m(self, *args)\u001b[0m\n\u001b[1;32m    109\u001b[0m     \u001b[0;32melse\u001b[0m\u001b[0;34m:\u001b[0m\u001b[0;34m\u001b[0m\u001b[0m\n\u001b[1;32m    110\u001b[0m         self.__javaobject__ = self.__class__.__javaclass__.newClassInstance(\n\u001b[0;32m--> 111\u001b[0;31m             *args)\n\u001b[0m\u001b[1;32m    112\u001b[0m \u001b[0;34m\u001b[0m\u001b[0m\n\u001b[1;32m    113\u001b[0m \u001b[0;34m\u001b[0m\u001b[0m\n",
      "\u001b[0;31mjava.lang.IllegalArgumentExceptionPyRaisable\u001b[0m: java.lang.IllegalArgumentException: CRF分词模型加载 /home/xy/anaconda3/lib/python3.6/site-packages/pyhanlp/static/data/model/segment/CRFSegmentModel.txt 失败，耗时 4 ms"
     ]
    }
   ],
   "source": [
    "segment = CRFSegment().enableCustomDictionary(True)"
   ]
  },
  {
   "cell_type": "code",
   "execution_count": null,
   "metadata": {
    "collapsed": true
   },
   "outputs": [],
   "source": []
  },
  {
   "cell_type": "code",
   "execution_count": null,
   "metadata": {
    "collapsed": true
   },
   "outputs": [],
   "source": []
  }
 ],
 "metadata": {
  "kernelspec": {
   "display_name": "Python 3",
   "language": "python",
   "name": "python3"
  },
  "language_info": {
   "codemirror_mode": {
    "name": "ipython",
    "version": 3
   },
   "file_extension": ".py",
   "mimetype": "text/x-python",
   "name": "python",
   "nbconvert_exporter": "python",
   "pygments_lexer": "ipython3",
   "version": "3.6.2"
  }
 },
 "nbformat": 4,
 "nbformat_minor": 1
}
