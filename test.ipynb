{
 "cells": [
  {
   "cell_type": "code",
   "execution_count": 45,
   "metadata": {},
   "outputs": [],
   "source": [
    "import os\n",
    "import time\n",
    "import json\n",
    "import pandas as pd\n",
    "import torch\n",
    "import loader\n",
    "import utils\n",
    "import preprocess_data\n",
    "from config import config_base\n",
    "from config import config_r_net\n",
    "from config import config_match_lstm\n",
    "from config import config_bi_daf\n",
    "from config import config_ensemble\n",
    "from modules import match_lstm\n",
    "from modules import r_net\n",
    "from modules import bi_daf\n",
    "from torch.nn import functional as f\n",
    "\n",
    "# config = config_match_lstm.config\n",
    "# config = config_r_net.config\n",
    "config = config_bi_daf.config\n",
    "# config = config_ensemble.config"
   ]
  },
  {
   "cell_type": "code",
   "execution_count": 2,
   "metadata": {
    "collapsed": true
   },
   "outputs": [],
   "source": [
    "lang = loader.load_vocab(config.vocab_path)"
   ]
  },
  {
   "cell_type": "code",
   "execution_count": 3,
   "metadata": {
    "collapsed": true
   },
   "outputs": [],
   "source": [
    "embedding_np = loader.load_w2v(config.embedding_path)"
   ]
  },
  {
   "cell_type": "code",
   "execution_count": 4,
   "metadata": {},
   "outputs": [
    {
     "name": "stderr",
     "output_type": "stream",
     "text": [
      "Building prefix dict from the default dictionary ...\n",
      "Loading model from cache /tmp/jieba.cache\n",
      "Loading model cost 0.448 seconds.\n",
      "Prefix dict has been built succesfully.\n"
     ]
    }
   ],
   "source": [
    "test_data = loader.load_data(config.test_df, lang)"
   ]
  },
  {
   "cell_type": "code",
   "execution_count": 36,
   "metadata": {
    "collapsed": true
   },
   "outputs": [],
   "source": [
    "test_loader = loader.build_loader(\n",
    "        dataset=test_data[:2],\n",
    "        batch_size=5,\n",
    "        shuffle=False,\n",
    "        drop_last=False\n",
    "    )"
   ]
  },
  {
   "cell_type": "code",
   "execution_count": 37,
   "metadata": {
    "collapsed": true
   },
   "outputs": [],
   "source": [
    "param = {\n",
    "        'embedding': embedding_np,\n",
    "        'embedding_type': config.embedding_type,\n",
    "        'embedding_is_training': config.embedding_is_training,\n",
    "        'mode': config.mode,\n",
    "        'hidden_size': config.hidden_size,\n",
    "        'dropout_p': config.dropout_p,\n",
    "        'encoder_dropout_p': config.encoder_dropout_p,\n",
    "        'encoder_bidirectional': config.encoder_bidirectional,\n",
    "        'encoder_layer_num': config.encoder_layer_num,\n",
    "        'is_bn': config.is_bn\n",
    "    }"
   ]
  },
  {
   "cell_type": "code",
   "execution_count": 38,
   "metadata": {},
   "outputs": [
    {
     "name": "stdout",
     "output_type": "stream",
     "text": [
      "load model,  model/bi_daf_1\n"
     ]
    }
   ],
   "source": [
    "model = eval(config.model_name).Model(param)\n",
    "model = model.cuda()\n",
    "model.train()\n",
    "model_path = os.path.join('model', config.model_save)\n",
    "print('load model, ', model_path)\n",
    "state = torch.load(model_path)\n",
    "model.load_state_dict(state['best_model_state'])"
   ]
  },
  {
   "cell_type": "code",
   "execution_count": 39,
   "metadata": {
    "collapsed": true
   },
   "outputs": [],
   "source": [
    "batch_0 = 0\n",
    "for i, batch in enumerate(test_loader):\n",
    "    if i ==0:\n",
    "        batch_0 = batch\n",
    "    break"
   ]
  },
  {
   "cell_type": "code",
   "execution_count": 40,
   "metadata": {
    "collapsed": true
   },
   "outputs": [],
   "source": [
    "batch_0= utils.deal_batch(batch_0)"
   ]
  },
  {
   "cell_type": "code",
   "execution_count": 41,
   "metadata": {},
   "outputs": [],
   "source": [
    "outputs = model(batch_0)"
   ]
  },
  {
   "cell_type": "code",
   "execution_count": 43,
   "metadata": {},
   "outputs": [],
   "source": [
    "a = torch.Tensor([-float('inf'), -float('inf')])"
   ]
  },
  {
   "cell_type": "code",
   "execution_count": 46,
   "metadata": {},
   "outputs": [
    {
     "name": "stderr",
     "output_type": "stream",
     "text": [
      "/home/xy/anaconda3/lib/python3.6/site-packages/ipykernel_launcher.py:1: UserWarning: Implicit dimension choice for softmax has been deprecated. Change the call to include dim=X as an argument.\n",
      "  \"\"\"Entry point for launching an IPython kernel.\n"
     ]
    },
    {
     "data": {
      "text/plain": [
       "tensor([nan., nan.])"
      ]
     },
     "execution_count": 46,
     "metadata": {},
     "output_type": "execute_result"
    }
   ],
   "source": [
    "f.softmax(a)"
   ]
  }
 ],
 "metadata": {
  "kernelspec": {
   "display_name": "Python 3",
   "language": "python",
   "name": "python3"
  },
  "language_info": {
   "codemirror_mode": {
    "name": "ipython",
    "version": 3
   },
   "file_extension": ".py",
   "mimetype": "text/x-python",
   "name": "python",
   "nbconvert_exporter": "python",
   "pygments_lexer": "ipython3",
   "version": "3.6.2"
  }
 },
 "nbformat": 4,
 "nbformat_minor": 1
}
