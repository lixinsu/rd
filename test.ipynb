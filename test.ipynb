{
 "cells": [
  {
   "cell_type": "markdown",
   "metadata": {},
   "source": [
    "# test"
   ]
  },
  {
   "cell_type": "code",
   "execution_count": 3,
   "metadata": {
    "collapsed": true
   },
   "outputs": [],
   "source": [
    "import jieba\n",
    "from rouge import Rouge\n",
    "import numpy as np\n",
    "import rouge"
   ]
  },
  {
   "cell_type": "code",
   "execution_count": 10,
   "metadata": {},
   "outputs": [
    {
     "data": {
      "text/plain": [
       "0.9276498"
      ]
     },
     "execution_count": 10,
     "metadata": {},
     "output_type": "execute_result"
    }
   ],
   "source": [
    "0.966 * 0.9603"
   ]
  },
  {
   "cell_type": "code",
   "execution_count": 4,
   "metadata": {},
   "outputs": [
    {
     "name": "stdout",
     "output_type": "stream",
     "text": [
      "Help on package rouge:\n",
      "\n",
      "NAME\n",
      "    rouge\n",
      "\n",
      "PACKAGE CONTENTS\n",
      "    rouge\n",
      "    rouge_score\n",
      "\n",
      "CLASSES\n",
      "    builtins.object\n",
      "        rouge.rouge.FilesRouge\n",
      "        rouge.rouge.Rouge\n",
      "    \n",
      "    class FilesRouge(builtins.object)\n",
      "     |  Methods defined here:\n",
      "     |  \n",
      "     |  __init__(self, hyp_path, ref_path, metrics=None, stats=None, batch_lines=None)\n",
      "     |      Initialize self.  See help(type(self)) for accurate signature.\n",
      "     |  \n",
      "     |  get_scores(self, avg=False)\n",
      "     |      Calculate ROUGE scores between each pair of\n",
      "     |      lines (hyp_file[i], ref_file[i]).\n",
      "     |      Args:\n",
      "     |        * hyp_path: hypothesis file path\n",
      "     |        * ref_path: references file path\n",
      "     |        * avg (False): whether to get an average scores or a list\n",
      "     |  \n",
      "     |  ----------------------------------------------------------------------\n",
      "     |  Data descriptors defined here:\n",
      "     |  \n",
      "     |  __dict__\n",
      "     |      dictionary for instance variables (if defined)\n",
      "     |  \n",
      "     |  __weakref__\n",
      "     |      list of weak references to the object (if defined)\n",
      "    \n",
      "    class Rouge(builtins.object)\n",
      "     |  Methods defined here:\n",
      "     |  \n",
      "     |  __init__(self, metrics=None, stats=None)\n",
      "     |      Initialize self.  See help(type(self)) for accurate signature.\n",
      "     |  \n",
      "     |  get_scores(self, hyps, refs, avg=False)\n",
      "     |  \n",
      "     |  ----------------------------------------------------------------------\n",
      "     |  Data descriptors defined here:\n",
      "     |  \n",
      "     |  __dict__\n",
      "     |      dictionary for instance variables (if defined)\n",
      "     |  \n",
      "     |  __weakref__\n",
      "     |      list of weak references to the object (if defined)\n",
      "     |  \n",
      "     |  ----------------------------------------------------------------------\n",
      "     |  Data and other attributes defined here:\n",
      "     |  \n",
      "     |  AVAILABLE_METRICS = {'rouge-1': <function Rouge.<lambda>>, 'rouge-2': ...\n",
      "     |  \n",
      "     |  AVAILABLE_STATS = ['f', 'p', 'r']\n",
      "     |  \n",
      "     |  DEFAULT_METRICS = ['rouge-1', 'rouge-2', 'rouge-l']\n",
      "     |  \n",
      "     |  DEFAULT_STATS = ['f', 'p', 'r']\n",
      "\n",
      "DATA\n",
      "    __all__ = ['FilesRouge', 'Rouge']\n",
      "\n",
      "VERSION\n",
      "    0.3.0\n",
      "\n",
      "FILE\n",
      "    /home/xy/anaconda3/lib/python3.6/site-packages/rouge/__init__.py\n",
      "\n",
      "\n"
     ]
    }
   ],
   "source": [
    "help(rouge)"
   ]
  },
  {
   "cell_type": "code",
   "execution_count": null,
   "metadata": {
    "collapsed": true
   },
   "outputs": [],
   "source": []
  },
  {
   "cell_type": "code",
   "execution_count": null,
   "metadata": {
    "collapsed": true
   },
   "outputs": [],
   "source": []
  },
  {
   "cell_type": "code",
   "execution_count": null,
   "metadata": {
    "collapsed": true
   },
   "outputs": [],
   "source": []
  },
  {
   "cell_type": "code",
   "execution_count": null,
   "metadata": {
    "collapsed": true
   },
   "outputs": [],
   "source": []
  },
  {
   "cell_type": "code",
   "execution_count": null,
   "metadata": {
    "collapsed": true
   },
   "outputs": [],
   "source": []
  }
 ],
 "metadata": {
  "kernelspec": {
   "display_name": "Python 3",
   "language": "python",
   "name": "python3"
  },
  "language_info": {
   "codemirror_mode": {
    "name": "ipython",
    "version": 3
   },
   "file_extension": ".py",
   "mimetype": "text/x-python",
   "name": "python",
   "nbconvert_exporter": "python",
   "pygments_lexer": "ipython3",
   "version": "3.6.2"
  }
 },
 "nbformat": 4,
 "nbformat_minor": 2
}
