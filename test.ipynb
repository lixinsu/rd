{
 "cells": [
  {
   "cell_type": "code",
   "execution_count": 1,
   "metadata": {
    "collapsed": true
   },
   "outputs": [],
   "source": [
    "# coding = utf-8\n",
    "# author = xy\n",
    "\n",
    "\n",
    "import torch\n",
    "from torch.nn.modules import loss\n",
    "import torch.nn.functional as f\n",
    "import utils\n",
    "\n",
    "\n",
    "class MyNLLLoss(loss._Loss):\n",
    "    \"\"\" MLE 最大似然估计 \"\"\"\n",
    "    def __init__(self):\n",
    "        super(MyNLLLoss, self).__init__()\n",
    "\n",
    "    def forward(self, outputs, batch):\n",
    "        \"\"\"\n",
    "        :param outputs: tensor (2, batch_size, content_seq_len)\n",
    "        :param batch: tensor\n",
    "        :return:loss\n",
    "        \"\"\"\n",
    "        y_start = batch[2]\n",
    "        y_end = batch[3]\n",
    "        outputs = torch.log(outputs)\n",
    "        start_loss = f.nll_loss(outputs[0], y_start)\n",
    "        end_loss = f.nll_loss(outputs[1], y_end)\n",
    "        return start_loss + end_loss\n",
    "\n",
    "\n",
    "class RougeLoss(loss._Loss):\n",
    "    \"\"\" MRT 最小风险 \"\"\"\n",
    "    def __init__(self, lam):\n",
    "        super(RougeLoss, self).__init__()\n",
    "\n",
    "        self.lam = lam\n",
    "\n",
    "        self.mle = MyNLLLoss()\n",
    "\n",
    "    def forward(self, outputs, batch):\n",
    "        \"\"\"\n",
    "        :param outputs: tensor (2, batch_size, content_seq_len)\n",
    "        :param batch: tensor (content, question, start, end)\n",
    "        :return: loss\n",
    "        \"\"\"\n",
    "        # mrt\n",
    "        start_y = batch[2]\n",
    "        end_y = batch[3]\n",
    "        y = [torch.range(s, e).cuda() for s, e in zip(start_y, end_y)]\n",
    "\n",
    "        start_pred, end_pred = torch.max(outputs, dim=2)[1]\n",
    "        pred = [torch.range(s, e).cuda() if s <= e else torch.Tensor([-1]).cuda() for s, e in zip(start_pred, end_pred)]\n",
    "\n",
    "        loss_mrt = [utils.rouge_score(pred_i, y_i) for pred_i, y_i in zip(pred, y)]\n",
    "        print(loss_mrt)\n",
    "        loss_mrt_tmp = 0\n",
    "        for i in loss_mrt:\n",
    "            loss_mrt_tmp += i\n",
    "        loss_mrt = loss_mrt_tmp / len(loss_mrt)\n",
    "\n",
    "        # mle\n",
    "        loss_mle = self.mle(outputs, batch)\n",
    "\n",
    "        loss_value = loss_mle + self.lam * loss_mrt\n",
    "        return loss_value\n"
   ]
  },
  {
   "cell_type": "code",
   "execution_count": 2,
   "metadata": {},
   "outputs": [
    {
     "data": {
      "text/plain": [
       "tensor([[[ 0.3370,  0.2132,  0.1478,  0.3742],\n",
       "         [ 0.5618,  0.0211,  0.7462,  0.4303],\n",
       "         [ 0.4481,  0.9956,  0.9781,  0.1160]],\n",
       "\n",
       "        [[ 0.8187,  0.3722,  0.5184,  0.7440],\n",
       "         [ 0.5579,  0.0137,  0.8926,  0.2001],\n",
       "         [ 0.0819,  0.1607,  0.7611,  0.6231]]], device='cuda:0')"
      ]
     },
     "execution_count": 2,
     "metadata": {},
     "output_type": "execute_result"
    }
   ],
   "source": [
    "outputs = torch.rand(2, 3, 4).cuda()\n",
    "outputs"
   ]
  },
  {
   "cell_type": "code",
   "execution_count": 3,
   "metadata": {},
   "outputs": [],
   "source": [
    "batch = [0, 0, torch.LongTensor([1, 0, 0]).cuda(), torch.LongTensor([1, 3, 0]).cuda()]"
   ]
  },
  {
   "cell_type": "code",
   "execution_count": 4,
   "metadata": {
    "collapsed": true
   },
   "outputs": [],
   "source": [
    "loss = RougeLoss(4)"
   ]
  },
  {
   "cell_type": "code",
   "execution_count": 5,
   "metadata": {},
   "outputs": [
    {
     "name": "stdout",
     "output_type": "stream",
     "text": [
      "[tensor(0., device='cuda:0'), tensor(0.3609, device='cuda:0'), tensor(0., device='cuda:0')]\n"
     ]
    },
    {
     "data": {
      "text/plain": [
       "tensor(3.1562, device='cuda:0')"
      ]
     },
     "execution_count": 5,
     "metadata": {},
     "output_type": "execute_result"
    }
   ],
   "source": [
    "loss(outputs, batch)"
   ]
  },
  {
   "cell_type": "code",
   "execution_count": 7,
   "metadata": {},
   "outputs": [
    {
     "data": {
      "text/plain": [
       "[tensor(3), tensor(3)]"
      ]
     },
     "execution_count": 7,
     "metadata": {},
     "output_type": "execute_result"
    }
   ],
   "source": [
    "a = [torch.tensor(3), torch.tensor(3)]\n",
    "a"
   ]
  },
  {
   "cell_type": "code",
   "execution_count": 9,
   "metadata": {},
   "outputs": [
    {
     "data": {
      "text/plain": [
       "tensor(3.)"
      ]
     },
     "execution_count": 9,
     "metadata": {},
     "output_type": "execute_result"
    }
   ],
   "source": [
    "torch.mean(torch.Tensor(a))"
   ]
  },
  {
   "cell_type": "code",
   "execution_count": 10,
   "metadata": {},
   "outputs": [
    {
     "data": {
      "text/plain": [
       "tensor([ 3.,  3.])"
      ]
     },
     "execution_count": 10,
     "metadata": {},
     "output_type": "execute_result"
    }
   ],
   "source": [
    "torch.Tensor(a)"
   ]
  },
  {
   "cell_type": "code",
   "execution_count": 56,
   "metadata": {},
   "outputs": [
    {
     "data": {
      "text/plain": [
       "tensor([ 5])"
      ]
     },
     "execution_count": 56,
     "metadata": {},
     "output_type": "execute_result"
    }
   ],
   "source": [
    "torch.max(torch.LongTensor([5]), torch.LongTensor([3]))"
   ]
  },
  {
   "cell_type": "code",
   "execution_count": 49,
   "metadata": {},
   "outputs": [
    {
     "data": {
      "text/plain": [
       "tensor([ 1])"
      ]
     },
     "execution_count": 49,
     "metadata": {},
     "output_type": "execute_result"
    }
   ],
   "source": [
    "torch.max(torch.LongTensor([1]), torch.LongTensor([-1]))"
   ]
  },
  {
   "cell_type": "code",
   "execution_count": 12,
   "metadata": {
    "collapsed": true
   },
   "outputs": [],
   "source": [
    "a= torch.LongTensor([1,3,4])\n",
    "b = torch.LongTensor([2, 5, 8])"
   ]
  },
  {
   "cell_type": "code",
   "execution_count": 8,
   "metadata": {
    "collapsed": true
   },
   "outputs": [],
   "source": [
    "string = '你妹的..wokao'\n",
    "sub = '.woo '"
   ]
  },
  {
   "cell_type": "code",
   "execution_count": 13,
   "metadata": {},
   "outputs": [],
   "source": [
    "y = [torch.range(s, e) for s, e in zip(a, b)]"
   ]
  },
  {
   "cell_type": "code",
   "execution_count": 14,
   "metadata": {},
   "outputs": [
    {
     "data": {
      "text/plain": [
       "[tensor([ 1.,  2.]),\n",
       " tensor([ 3.,  4.,  5.]),\n",
       " tensor([ 4.,  5.,  6.,  7.,  8.])]"
      ]
     },
     "execution_count": 14,
     "metadata": {},
     "output_type": "execute_result"
    }
   ],
   "source": [
    "y"
   ]
  },
  {
   "cell_type": "code",
   "execution_count": 27,
   "metadata": {},
   "outputs": [
    {
     "data": {
      "text/plain": [
       "tensor([[[ 0.5194,  0.8005,  0.4448,  0.8597],\n",
       "         [ 0.8940,  0.6153,  0.0597,  0.1176],\n",
       "         [ 0.3903,  0.0271,  0.1076,  0.3063]],\n",
       "\n",
       "        [[ 0.9697,  0.9926,  0.4235,  0.3457],\n",
       "         [ 0.6630,  0.4112,  0.7384,  0.9590],\n",
       "         [ 0.8537,  0.1090,  0.2849,  0.4107]]])"
      ]
     },
     "execution_count": 27,
     "metadata": {},
     "output_type": "execute_result"
    }
   ],
   "source": [
    "outputs = torch.rand(2, 3, 4)\n",
    "outputs"
   ]
  },
  {
   "cell_type": "code",
   "execution_count": 28,
   "metadata": {},
   "outputs": [
    {
     "data": {
      "text/plain": [
       "tensor([[ 3,  0,  0],\n",
       "        [ 1,  3,  0]])"
      ]
     },
     "execution_count": 28,
     "metadata": {},
     "output_type": "execute_result"
    }
   ],
   "source": [
    "torch.max(outputs, dim=2)[1]"
   ]
  },
  {
   "cell_type": "code",
   "execution_count": 35,
   "metadata": {},
   "outputs": [],
   "source": [
    "a, b = torch.max(outputs, dim=2)[1]"
   ]
  },
  {
   "cell_type": "code",
   "execution_count": 40,
   "metadata": {},
   "outputs": [
    {
     "data": {
      "text/plain": [
       "3"
      ]
     },
     "execution_count": 40,
     "metadata": {},
     "output_type": "execute_result"
    }
   ],
   "source": [
    "len(a)"
   ]
  },
  {
   "cell_type": "code",
   "execution_count": 30,
   "metadata": {},
   "outputs": [
    {
     "data": {
      "text/plain": [
       "tensor([ 1,  3,  0])"
      ]
     },
     "execution_count": 30,
     "metadata": {},
     "output_type": "execute_result"
    }
   ],
   "source": [
    "b"
   ]
  },
  {
   "cell_type": "code",
   "execution_count": 39,
   "metadata": {},
   "outputs": [
    {
     "data": {
      "text/plain": [
       "[tensor([-1.]), tensor([ 0.,  1.,  2.,  3.]), tensor([ 0.])]"
      ]
     },
     "execution_count": 39,
     "metadata": {},
     "output_type": "execute_result"
    }
   ],
   "source": [
    "[torch.range(s, e) if s<=e else torch.Tensor([-1]) for s, e in zip(a, b)]"
   ]
  },
  {
   "cell_type": "code",
   "execution_count": null,
   "metadata": {
    "collapsed": true
   },
   "outputs": [],
   "source": []
  }
 ],
 "metadata": {
  "kernelspec": {
   "display_name": "Python 3",
   "language": "python",
   "name": "python3"
  },
  "language_info": {
   "codemirror_mode": {
    "name": "ipython",
    "version": 3
   },
   "file_extension": ".py",
   "mimetype": "text/x-python",
   "name": "python",
   "nbconvert_exporter": "python",
   "pygments_lexer": "ipython3",
   "version": "3.6.2"
  }
 },
 "nbformat": 4,
 "nbformat_minor": 1
}
