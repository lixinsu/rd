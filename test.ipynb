{
 "cells": [
  {
   "cell_type": "code",
   "execution_count": 1,
   "metadata": {},
   "outputs": [],
   "source": [
    "import json\n",
    "from rouge import Rouge\n",
    "import os\n",
    "import pandas as pd\n",
    "import numpy as np\n",
    "import copy\n",
    "import jieba\n",
    "import sys\n",
    "import re\n",
    "import logging\n",
    "import gensim\n",
    "from preprocess_data import *\n",
    "from gensim.models.word2vec import LineSentence\n",
    "from sklearn import model_selection\n",
    "from config import config_base\n",
    "import vocab\n",
    "config = config_base.config"
   ]
  },
  {
   "cell_type": "code",
   "execution_count": 2,
   "metadata": {},
   "outputs": [],
   "source": [
    "df = organize_data(config.train_data)"
   ]
  },
  {
   "cell_type": "code",
   "execution_count": 3,
   "metadata": {
    "collapsed": true
   },
   "outputs": [],
   "source": [
    "df = deal_data(df)"
   ]
  },
  {
   "cell_type": "code",
   "execution_count": 4,
   "metadata": {
    "collapsed": true
   },
   "outputs": [],
   "source": [
    "df = df.sample(5000)"
   ]
  },
  {
   "cell_type": "code",
   "execution_count": 46,
   "metadata": {},
   "outputs": [
    {
     "ename": "KeyboardInterrupt",
     "evalue": "",
     "output_type": "error",
     "traceback": [
      "\u001b[0;31m---------------------------------------------------------------------------\u001b[0m",
      "\u001b[0;31mKeyboardInterrupt\u001b[0m                         Traceback (most recent call last)",
      "\u001b[0;32m~/anaconda3/lib/python3.6/site-packages/zmq/backend/cython/checkrc.pxd\u001b[0m in \u001b[0;36mzmq.backend.cython.checkrc._check_rc\u001b[0;34m()\u001b[0m\n",
      "\u001b[0;31mKeyboardInterrupt\u001b[0m: "
     ]
    },
    {
     "name": "stderr",
     "output_type": "stream",
     "text": [
      "Exception ignored in: 'zmq.backend.cython.message.Frame.__dealloc__'\n",
      "Traceback (most recent call last):\n",
      "  File \"zmq/backend/cython/checkrc.pxd\", line 12, in zmq.backend.cython.checkrc._check_rc\n",
      "KeyboardInterrupt\n"
     ]
    },
    {
     "name": "stdout",
     "output_type": "stream",
     "text": [
      "shorten content, accuracy: 0.9618\n",
      "max length: 300\n",
      "min length: 6\n",
      "mean length:180\n",
      "median length:176\n"
     ]
    }
   ],
   "source": [
    "df = shorten_content_all(df, config.max_len)"
   ]
  },
  {
   "cell_type": "code",
   "execution_count": 50,
   "metadata": {},
   "outputs": [
    {
     "name": "stdout",
     "output_type": "stream",
     "text": [
      "answer generation accuracy: 0.9595\n",
      "\n"
     ]
    }
   ],
   "source": [
    "df_tmp= build_answer_range(df)"
   ]
  },
  {
   "cell_type": "code",
   "execution_count": 37,
   "metadata": {},
   "outputs": [
    {
     "data": {
      "text/plain": [
       "19"
      ]
     },
     "execution_count": 37,
     "metadata": {},
     "output_type": "execute_result"
    }
   ],
   "source": [
    "sum(mm)"
   ]
  },
  {
   "cell_type": "code",
   "execution_count": 41,
   "metadata": {},
   "outputs": [
    {
     "data": {
      "text/plain": [
       "1"
      ]
     },
     "execution_count": 41,
     "metadata": {},
     "output_type": "execute_result"
    }
   ],
   "source": [
    "max(1, 0)"
   ]
  },
  {
   "cell_type": "code",
   "execution_count": 49,
   "metadata": {
    "collapsed": true
   },
   "outputs": [],
   "source": [
    "def build_answer_range(df):\n",
    "    sys.setrecursionlimit(1000000)\n",
    "    rouge = Rouge(metrics=['rouge-l'])\n",
    "\n",
    "    def match(merge, answer, question):\n",
    "        merge_list = jieba.lcut(merge)\n",
    "        merge_len = len(merge_list)\n",
    "        answer_list = jieba.lcut(answer)\n",
    "        answer_len = len(answer_list)\n",
    "        question_str = ' '.join(jieba.lcut(question))\n",
    "        start = []\n",
    "        end = []\n",
    "        for i in range(0, merge_len-answer_len+1):\n",
    "            if merge_list[i: i+answer_len] == answer_list:\n",
    "                start.append(i)\n",
    "                end.append(i+answer_len-1)\n",
    "        if len(start) == 0:\n",
    "            return -1, -1\n",
    "        elif len(start) == 1:\n",
    "            return start[0], end[0]\n",
    "        else:\n",
    "            scores = []\n",
    "            # 前后扩展5个词\n",
    "            for s, e in zip(start, end):\n",
    "                s = max(s-5, 0)\n",
    "                answer_can = ' '.join(merge_list[s: e+5])\n",
    "                score = rouge.get_scores(answer_can, question_str, avg=True)['rouge-l']['r']\n",
    "                scores.append(score)\n",
    "            max_idx = np.argmax(scores)\n",
    "            return start[max_idx], end[max_idx]\n",
    "\n",
    "    merges = df[df['is_in']]['merge'].values\n",
    "    answers = df[df['is_in']]['answer'].values\n",
    "    questions = df[df['is_in']]['question'].values\n",
    "    answer_range = [match(m, a, q) for m, a, q in zip(merges, answers, questions)]\n",
    "\n",
    "    start, end = list(zip(*answer_range))\n",
    "    df.loc[df['is_in'], 'answer_start'] = start\n",
    "    df.loc[df['is_in'], 'answer_end'] = end\n",
    "\n",
    "    merge_len = len(merges)\n",
    "    right_len = (df['answer_start'] > -1).sum()\n",
    "    print('answer generation accuracy: %.4f\\n' % (right_len/merge_len))\n",
    "\n",
    "    return df"
   ]
  },
  {
   "cell_type": "code",
   "execution_count": null,
   "metadata": {
    "collapsed": true
   },
   "outputs": [],
   "source": []
  },
  {
   "cell_type": "code",
   "execution_count": null,
   "metadata": {
    "collapsed": true
   },
   "outputs": [],
   "source": []
  },
  {
   "cell_type": "code",
   "execution_count": 31,
   "metadata": {},
   "outputs": [
    {
     "data": {
      "text/plain": [
       "0.038"
      ]
     },
     "execution_count": 31,
     "metadata": {},
     "output_type": "execute_result"
    }
   ],
   "source": [
    "190/5000"
   ]
  },
  {
   "cell_type": "code",
   "execution_count": null,
   "metadata": {
    "collapsed": true
   },
   "outputs": [],
   "source": []
  },
  {
   "cell_type": "code",
   "execution_count": null,
   "metadata": {
    "collapsed": true
   },
   "outputs": [],
   "source": []
  },
  {
   "cell_type": "code",
   "execution_count": null,
   "metadata": {
    "collapsed": true
   },
   "outputs": [],
   "source": []
  },
  {
   "cell_type": "code",
   "execution_count": null,
   "metadata": {
    "collapsed": true
   },
   "outputs": [],
   "source": []
  },
  {
   "cell_type": "code",
   "execution_count": null,
   "metadata": {
    "collapsed": true
   },
   "outputs": [],
   "source": []
  },
  {
   "cell_type": "code",
   "execution_count": null,
   "metadata": {
    "collapsed": true
   },
   "outputs": [],
   "source": []
  },
  {
   "cell_type": "code",
   "execution_count": null,
   "metadata": {
    "collapsed": true
   },
   "outputs": [],
   "source": []
  }
 ],
 "metadata": {
  "kernelspec": {
   "display_name": "Python 3",
   "language": "python",
   "name": "python3"
  },
  "language_info": {
   "codemirror_mode": {
    "name": "ipython",
    "version": 3
   },
   "file_extension": ".py",
   "mimetype": "text/x-python",
   "name": "python",
   "nbconvert_exporter": "python",
   "pygments_lexer": "ipython3",
   "version": "3.6.2"
  }
 },
 "nbformat": 4,
 "nbformat_minor": 2
}
