{
 "cells": [
  {
   "cell_type": "code",
   "execution_count": 20,
   "metadata": {},
   "outputs": [],
   "source": [
    "import os\n",
    "import time\n",
    "import numpy as np\n",
    "import pickle\n",
    "import matplotlib.pyplot as plt\n",
    "import loader\n",
    "import torch\n",
    "from torch import optim\n",
    "from torch import nn\n",
    "from config import config_base\n",
    "from config import config_r_net\n",
    "from config import config_match_lstm\n",
    "from config import config_bi_daf\n",
    "import preprocess_data\n",
    "import utils\n",
    "from modules.layers.loss import MyNLLLoss\n",
    "from modules.layers.loss import RougeLoss\n",
    "from modules import match_lstm\n",
    "from modules import r_net\n",
    "from modules import bi_daf\n",
    "\n",
    "\n",
    "# config = config_match_lstm.config\n",
    "# config = config_r_net.config\n",
    "config = config_bi_daf.config"
   ]
  },
  {
   "cell_type": "code",
   "execution_count": 21,
   "metadata": {
    "collapsed": true
   },
   "outputs": [],
   "source": [
    "lang = loader.load_vocab(config.vocab_path)"
   ]
  },
  {
   "cell_type": "code",
   "execution_count": 22,
   "metadata": {
    "collapsed": true
   },
   "outputs": [],
   "source": [
    "embedding_np = loader.load_w2v(config.embedding_path)"
   ]
  },
  {
   "cell_type": "code",
   "execution_count": 23,
   "metadata": {
    "collapsed": true
   },
   "outputs": [],
   "source": [
    "    if os.path.isfile(config.train_pkl):\n",
    "        with open(config.train_pkl, 'rb') as file:\n",
    "            train_data = pickle.load(file)\n",
    "    else:\n",
    "        train_data = loader.load_data(config.train_df, lang)\n",
    "        with open(config.train_pkl, 'wb') as file:\n",
    "            pickle.dump(train_data, file)\n",
    "\n",
    "    # load val data\n",
    "    if os.path.isfile(config.val_pkl):\n",
    "        with open(config.val_pkl, 'rb') as file:\n",
    "            val_data = pickle.load(file)\n",
    "    else:\n",
    "        val_data = loader.load_data(config.val_df, lang)\n",
    "        with open(config.val_pkl, 'wb') as file:\n",
    "            pickle.dump(val_data, file)"
   ]
  },
  {
   "cell_type": "code",
   "execution_count": 24,
   "metadata": {
    "collapsed": true
   },
   "outputs": [],
   "source": [
    "    train_loader = loader.build_loader(\n",
    "        dataset=train_data,\n",
    "        batch_size=config.batch_size,\n",
    "        shuffle=True,\n",
    "        drop_last=True\n",
    "    )"
   ]
  },
  {
   "cell_type": "code",
   "execution_count": 26,
   "metadata": {},
   "outputs": [],
   "source": [
    "    param = {\n",
    "        'embedding': embedding_np,\n",
    "        'embedding_type': config.embedding_type,\n",
    "        'embedding_is_training': config.embedding_is_training,\n",
    "        'mode': config.mode,\n",
    "        'hidden_size': config.hidden_size,\n",
    "        'dropout_p': config.dropout_p,\n",
    "        'encoder_dropout_p': config.encoder_dropout_p,\n",
    "        'encoder_bidirectional': config.encoder_bidirectional,\n",
    "        'encoder_layer_num': config.encoder_layer_num,\n",
    "        'is_bn': config.is_bn\n",
    "    }\n",
    "    model = eval(config.model_name).Model(param)\n",
    "    model = model.cuda()"
   ]
  },
  {
   "cell_type": "code",
   "execution_count": 27,
   "metadata": {
    "collapsed": true
   },
   "outputs": [],
   "source": [
    "    if config.criterion == 'RougeLoss':\n",
    "        criterion = eval(config.criterion)(lam=config.lamda)\n",
    "    else:\n",
    "        criterion = eval(config.criterion)()"
   ]
  },
  {
   "cell_type": "code",
   "execution_count": 28,
   "metadata": {
    "collapsed": true
   },
   "outputs": [],
   "source": [
    "optimizer = optim.Adam(model.parameters(), lr=config.lr)"
   ]
  },
  {
   "cell_type": "code",
   "execution_count": 29,
   "metadata": {},
   "outputs": [
    {
     "name": "stdout",
     "output_type": "stream",
     "text": [
      "load training param,  model/bi_daf_1\n"
     ]
    }
   ],
   "source": [
    "    if config.is_for_rouge:\n",
    "        model_path = os.path.join('model', config.model_save+'_mrt')\n",
    "        if os.path.isfile(model_path):\n",
    "            print('load training param, ', model_path)\n",
    "            state = torch.load(model_path)\n",
    "            model.load_state_dict(state['cur_model_state'])\n",
    "            optimizer.load_state_dict(state['cur_opt_state'])\n",
    "            train_loss_list = state['train_loss']\n",
    "            val_loss_list = state['val_loss']\n",
    "            steps = state['steps']\n",
    "            time_use = state['time']\n",
    "\n",
    "        else:\n",
    "            model_path = os.path.join('model', config.model_save)\n",
    "            assert os.path.isfile(model_path)\n",
    "            state = torch.load(model_path)\n",
    "            model.load_state_dict(state['best_model_state'])\n",
    "            optimizer.load_state_dict(state['best_opt_state'])\n",
    "            train_loss_list = []\n",
    "            val_loss_list = []\n",
    "            steps = []\n",
    "            time_use = 0\n",
    "        epoch_list = range(1)\n",
    "\n",
    "    else:\n",
    "        model_path = os.path.join('model', config.model_save)\n",
    "        if os.path.isfile(model_path):\n",
    "            print('load training param, ', model_path)\n",
    "            state = torch.load(model_path)\n",
    "            model.load_state_dict(state['cur_model_state'])\n",
    "            optimizer.load_state_dict(state['cur_opt_state'])\n",
    "            epoch_list = range(state['cur_epoch']+1, state['cur_epoch']+1+config.epoch)\n",
    "            train_loss_list = state['train_loss']\n",
    "            val_loss_list = state['val_loss']\n",
    "            steps = state['steps']\n",
    "            time_use = state['time']\n",
    "        else:\n",
    "            state = None\n",
    "            epoch_list = range(config.epoch)\n",
    "            train_loss_list = []\n",
    "            val_loss_list = []\n",
    "            steps = []\n",
    "            time_use = 0"
   ]
  },
  {
   "cell_type": "code",
   "execution_count": 30,
   "metadata": {
    "collapsed": true
   },
   "outputs": [],
   "source": [
    "batch0 = 0\n",
    "for batch in train_loader:\n",
    "    batch0 = batch\n",
    "    break"
   ]
  },
  {
   "cell_type": "code",
   "execution_count": 33,
   "metadata": {
    "collapsed": true
   },
   "outputs": [],
   "source": [
    "batch = utils.deal_batch(batch0)"
   ]
  },
  {
   "cell_type": "code",
   "execution_count": 27,
   "metadata": {},
   "outputs": [
    {
     "data": {
      "text/plain": [
       "tensor(-2.3026)"
      ]
     },
     "execution_count": 27,
     "metadata": {},
     "output_type": "execute_result"
    }
   ],
   "source": [
    "torch.log(torch.tensor(0.1))"
   ]
  },
  {
   "cell_type": "code",
   "execution_count": 36,
   "metadata": {},
   "outputs": [
    {
     "data": {
      "text/plain": [
       "torch.Size([2, 32, 285])"
      ]
     },
     "execution_count": 36,
     "metadata": {},
     "output_type": "execute_result"
    }
   ],
   "source": [
    "outputs.size()"
   ]
  },
  {
   "cell_type": "code",
   "execution_count": null,
   "metadata": {
    "collapsed": true
   },
   "outputs": [],
   "source": []
  },
  {
   "cell_type": "code",
   "execution_count": 37,
   "metadata": {
    "collapsed": true
   },
   "outputs": [],
   "source": [
    "loss_value = criterion(outputs, batch)"
   ]
  },
  {
   "cell_type": "code",
   "execution_count": 38,
   "metadata": {},
   "outputs": [
    {
     "data": {
      "text/plain": [
       "tensor(1.4996, device='cuda:0')"
      ]
     },
     "execution_count": 38,
     "metadata": {},
     "output_type": "execute_result"
    }
   ],
   "source": [
    "loss_value"
   ]
  },
  {
   "cell_type": "code",
   "execution_count": 2,
   "metadata": {},
   "outputs": [],
   "source": [
    "import torch"
   ]
  },
  {
   "cell_type": "code",
   "execution_count": 3,
   "metadata": {
    "collapsed": true
   },
   "outputs": [],
   "source": [
    "a = torch.Tensor([1,2])"
   ]
  },
  {
   "cell_type": "code",
   "execution_count": 12,
   "metadata": {},
   "outputs": [
    {
     "data": {
      "text/plain": [
       "False"
      ]
     },
     "execution_count": 12,
     "metadata": {},
     "output_type": "execute_result"
    }
   ],
   "source": [
    "a.type() == torch.FloatTensor"
   ]
  },
  {
   "cell_type": "code",
   "execution_count": 14,
   "metadata": {},
   "outputs": [
    {
     "data": {
      "text/plain": [
       "'torch.FloatTensor'"
      ]
     },
     "execution_count": 14,
     "metadata": {},
     "output_type": "execute_result"
    }
   ],
   "source": [
    "a.type()"
   ]
  },
  {
   "cell_type": "code",
   "execution_count": null,
   "metadata": {
    "collapsed": true
   },
   "outputs": [],
   "source": []
  },
  {
   "cell_type": "code",
   "execution_count": null,
   "metadata": {
    "collapsed": true
   },
   "outputs": [],
   "source": []
  },
  {
   "cell_type": "code",
   "execution_count": null,
   "metadata": {
    "collapsed": true
   },
   "outputs": [],
   "source": []
  },
  {
   "cell_type": "code",
   "execution_count": null,
   "metadata": {
    "collapsed": true
   },
   "outputs": [],
   "source": []
  },
  {
   "cell_type": "code",
   "execution_count": null,
   "metadata": {
    "collapsed": true
   },
   "outputs": [],
   "source": []
  },
  {
   "cell_type": "code",
   "execution_count": null,
   "metadata": {
    "collapsed": true
   },
   "outputs": [],
   "source": []
  },
  {
   "cell_type": "code",
   "execution_count": null,
   "metadata": {
    "collapsed": true
   },
   "outputs": [],
   "source": []
  },
  {
   "cell_type": "code",
   "execution_count": null,
   "metadata": {
    "collapsed": true
   },
   "outputs": [],
   "source": []
  }
 ],
 "metadata": {
  "kernelspec": {
   "display_name": "Python 3",
   "language": "python",
   "name": "python3"
  },
  "language_info": {
   "codemirror_mode": {
    "name": "ipython",
    "version": 3
   },
   "file_extension": ".py",
   "mimetype": "text/x-python",
   "name": "python",
   "nbconvert_exporter": "python",
   "pygments_lexer": "ipython3",
   "version": "3.6.2"
  }
 },
 "nbformat": 4,
 "nbformat_minor": 1
}
