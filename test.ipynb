{
 "cells": [
  {
   "cell_type": "code",
   "execution_count": 2,
   "metadata": {
    "collapsed": true
   },
   "outputs": [],
   "source": [
    "import pandas as pd"
   ]
  },
  {
   "cell_type": "code",
   "execution_count": 1,
   "metadata": {
    "collapsed": true
   },
   "outputs": [],
   "source": [
    "file = 'result/bi_daf_1_val.csv'"
   ]
  },
  {
   "cell_type": "code",
   "execution_count": 3,
   "metadata": {
    "collapsed": true
   },
   "outputs": [],
   "source": [
    "df = pd.read_csv(file)"
   ]
  },
  {
   "cell_type": "code",
   "execution_count": 35,
   "metadata": {},
   "outputs": [
    {
     "data": {
      "text/html": [
       "<div>\n",
       "<style>\n",
       "    .dataframe thead tr:only-child th {\n",
       "        text-align: right;\n",
       "    }\n",
       "\n",
       "    .dataframe thead th {\n",
       "        text-align: left;\n",
       "    }\n",
       "\n",
       "    .dataframe tbody tr th {\n",
       "        vertical-align: top;\n",
       "    }\n",
       "</style>\n",
       "<table border=\"1\" class=\"dataframe\">\n",
       "  <thead>\n",
       "    <tr style=\"text-align: right;\">\n",
       "      <th></th>\n",
       "      <th>article_id</th>\n",
       "      <th>title</th>\n",
       "      <th>content</th>\n",
       "      <th>merge</th>\n",
       "      <th>question</th>\n",
       "      <th>answer</th>\n",
       "      <th>answer_pred</th>\n",
       "      <th>answer_start</th>\n",
       "      <th>answer_end</th>\n",
       "      <th>answer_start_pred</th>\n",
       "      <th>answer_end_pred</th>\n",
       "    </tr>\n",
       "  </thead>\n",
       "  <tbody>\n",
       "    <tr>\n",
       "      <th>3217</th>\n",
       "      <td>20735</td>\n",
       "      <td>德一小货车冲撞人群致数十死伤 排除恐怖袭击可能</td>\n",
       "      <td>中新网4月8日电 据德国媒体报道，德国西部小城明斯特(Mnster)当地时间7日下午在市中心...</td>\n",
       "      <td>德一小货车冲撞人群致数十死伤 排除恐怖袭击可能。中新网4月8日电 据德国媒体报道，德国西部小...</td>\n",
       "      <td>这篇新闻的时间?</td>\n",
       "      <td>4月8日电</td>\n",
       "      <td>4月8日电</td>\n",
       "      <td>14.0</td>\n",
       "      <td>17.0</td>\n",
       "      <td>14</td>\n",
       "      <td>17</td>\n",
       "    </tr>\n",
       "  </tbody>\n",
       "</table>\n",
       "</div>"
      ],
      "text/plain": [
       "      article_id                    title  \\\n",
       "3217       20735  德一小货车冲撞人群致数十死伤 排除恐怖袭击可能   \n",
       "\n",
       "                                                content  \\\n",
       "3217  中新网4月8日电 据德国媒体报道，德国西部小城明斯特(Mnster)当地时间7日下午在市中心...   \n",
       "\n",
       "                                                  merge  question answer  \\\n",
       "3217  德一小货车冲撞人群致数十死伤 排除恐怖袭击可能。中新网4月8日电 据德国媒体报道，德国西部小...  这篇新闻的时间?  4月8日电   \n",
       "\n",
       "     answer_pred  answer_start  answer_end  answer_start_pred  answer_end_pred  \n",
       "3217       4月8日电          14.0        17.0                 14               17  "
      ]
     },
     "execution_count": 35,
     "metadata": {},
     "output_type": "execute_result"
    }
   ],
   "source": [
    "d = df.sample()\n",
    "d"
   ]
  },
  {
   "cell_type": "code",
   "execution_count": 36,
   "metadata": {},
   "outputs": [
    {
     "data": {
      "text/plain": [
       "'德一小货车冲撞人群致数十死伤 排除恐怖袭击可能'"
      ]
     },
     "execution_count": 36,
     "metadata": {},
     "output_type": "execute_result"
    }
   ],
   "source": [
    "title = d['title'].values[0]\n",
    "title"
   ]
  },
  {
   "cell_type": "code",
   "execution_count": 37,
   "metadata": {},
   "outputs": [
    {
     "data": {
      "text/plain": [
       "'中新网4月8日电 据德国媒体报道，德国西部小城明斯特(Mnster)当地时间7日下午在市中心发生一辆小货车冲向人群事件。目前警方封锁了事发的明斯特老城区，并证实该事件造成至少4人死亡，数十人受伤。肇事车辆司机在事发后开枪自杀。 据悉，当地时间7日下午4点40分，德新社、明镜周刊、每日新闻网、莱茵邮报等多家媒体分别报道称，明斯特市中心繁华的老城区发生一辆小型货车冲向人群事件，造成伤亡。 明斯特所在的北威州警署通过即时信息平台推特随即发推说，明斯特市中心发生车辆撞进人群事件，警方正在赶往事发现场，请居民绕行。目前事故背景未知，请不要猜测，我们会随时发布最新信息。 莱茵邮报(Rheinische Post)随即援引在事发现场的警察以及在场目击者提供的信息报道说，一辆小型货车在明斯特老城区的老字号餐馆Kiepenkerl前冲向在街边围坐喝咖啡、喝饮料、晒太阳的顾客。冲撞事故造成人员伤亡。 明斯特警方在当天下午5点左右证实，此次冲撞造成4人死亡，约30人受伤。4名死者中包括冲撞车辆驾驶人，此人在事发之后开枪自杀。 北威州内政部长罗伊尔(Herbert Reul)对新闻媒体表示，“7日晚，我们排除这是一起恐怖袭击的可能性”。 德国政府此间已经向这一事件中的受害人及家属表达了哀悼和慰问，并向警方以及急救人员的工作表示感谢。德国内政部同时表示，事件的背景还须调查和澄清。 明斯特警方未能证实有关撞人货车内另有两名乘客、并于事件发生后弃车潜逃的说法，但表示也会就此展开侦查。'"
      ]
     },
     "execution_count": 37,
     "metadata": {},
     "output_type": "execute_result"
    }
   ],
   "source": [
    "content = d['content'].values[0]\n",
    "content"
   ]
  },
  {
   "cell_type": "code",
   "execution_count": 38,
   "metadata": {},
   "outputs": [
    {
     "data": {
      "text/plain": [
       "'这篇新闻的时间?'"
      ]
     },
     "execution_count": 38,
     "metadata": {},
     "output_type": "execute_result"
    }
   ],
   "source": [
    "question = d['question'].values[0]\n",
    "question"
   ]
  },
  {
   "cell_type": "code",
   "execution_count": 39,
   "metadata": {},
   "outputs": [
    {
     "data": {
      "text/plain": [
       "'4月8日电'"
      ]
     },
     "execution_count": 39,
     "metadata": {},
     "output_type": "execute_result"
    }
   ],
   "source": [
    "answer = d['answer'].values[0]\n",
    "answer"
   ]
  },
  {
   "cell_type": "code",
   "execution_count": 40,
   "metadata": {},
   "outputs": [
    {
     "data": {
      "text/plain": [
       "'4月8日电'"
      ]
     },
     "execution_count": 40,
     "metadata": {},
     "output_type": "execute_result"
    }
   ],
   "source": [
    "pred = d['answer_pred'].values[0]\n",
    "pred"
   ]
  },
  {
   "cell_type": "code",
   "execution_count": null,
   "metadata": {
    "collapsed": true
   },
   "outputs": [],
   "source": []
  },
  {
   "cell_type": "code",
   "execution_count": null,
   "metadata": {
    "collapsed": true
   },
   "outputs": [],
   "source": []
  },
  {
   "cell_type": "code",
   "execution_count": null,
   "metadata": {
    "collapsed": true
   },
   "outputs": [],
   "source": []
  },
  {
   "cell_type": "code",
   "execution_count": null,
   "metadata": {
    "collapsed": true
   },
   "outputs": [],
   "source": []
  },
  {
   "cell_type": "code",
   "execution_count": null,
   "metadata": {
    "collapsed": true
   },
   "outputs": [],
   "source": []
  },
  {
   "cell_type": "code",
   "execution_count": null,
   "metadata": {
    "collapsed": true
   },
   "outputs": [],
   "source": []
  }
 ],
 "metadata": {
  "kernelspec": {
   "display_name": "Python 3",
   "language": "python",
   "name": "python3"
  },
  "language_info": {
   "codemirror_mode": {
    "name": "ipython",
    "version": 3
   },
   "file_extension": ".py",
   "mimetype": "text/x-python",
   "name": "python",
   "nbconvert_exporter": "python",
   "pygments_lexer": "ipython3",
   "version": "3.6.2"
  }
 },
 "nbformat": 4,
 "nbformat_minor": 1
}
