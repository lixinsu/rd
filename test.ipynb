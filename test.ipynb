{
 "cells": [
  {
   "cell_type": "code",
   "execution_count": 1,
   "metadata": {},
   "outputs": [
    {
     "name": "stderr",
     "output_type": "stream",
     "text": [
      "Building prefix dict from the default dictionary ...\n",
      "Loading model from cache /tmp/jieba.cache\n",
      "Loading model cost 0.438 seconds.\n",
      "Prefix dict has been built succesfully.\n"
     ]
    }
   ],
   "source": [
    "import os\n",
    "import time\n",
    "import numpy as np\n",
    "import pickle\n",
    "import matplotlib.pyplot as plt\n",
    "import loader\n",
    "import torch\n",
    "from torch import optim\n",
    "from torch import nn\n",
    "from config import config_base\n",
    "from config import config_r_net\n",
    "from config import config_match_lstm\n",
    "from config import config_match_lstm_plus\n",
    "from config import config_qa_net\n",
    "from config import config_bi_daf\n",
    "from config import config_m_reader\n",
    "from config import config_m_reader_plus\n",
    "import preprocess_data\n",
    "import utils\n",
    "from modules.layers.loss import MyNLLLoss\n",
    "from modules.layers.loss import RougeLoss\n",
    "from modules import match_lstm\n",
    "from modules import match_lstm_plus\n",
    "from modules import r_net\n",
    "from modules import bi_daf\n",
    "from modules import qa_net\n",
    "from modules import m_reader\n",
    "from modules import m_reader_plus\n",
    "\n",
    "\n",
    "# config = config_match_lstm.config\n",
    "# config = config_match_lstm_plus.config\n",
    "# config = config_r_net.config\n",
    "config = config_bi_daf.config\n",
    "# config = config_qa_net.config\n",
    "# config = config_m_reader.config\n",
    "# config = config_m_reader_plus.config"
   ]
  },
  {
   "cell_type": "code",
   "execution_count": 2,
   "metadata": {
    "collapsed": true
   },
   "outputs": [],
   "source": [
    "embedding_np = loader.load_w2v(config.embedding_path)"
   ]
  },
  {
   "cell_type": "code",
   "execution_count": 3,
   "metadata": {
    "collapsed": true
   },
   "outputs": [],
   "source": [
    "if os.path.isfile(config.train_pkl):\n",
    "        with open(config.train_pkl, 'rb') as file:\n",
    "            train_data = pickle.load(file)"
   ]
  },
  {
   "cell_type": "code",
   "execution_count": 4,
   "metadata": {
    "collapsed": true
   },
   "outputs": [],
   "source": [
    "train_loader = loader.build_loader(\n",
    "        dataset=train_data,\n",
    "        batch_size=config.batch_size,\n",
    "        shuffle=True,\n",
    "        drop_last=True\n",
    "    )"
   ]
  },
  {
   "cell_type": "code",
   "execution_count": 5,
   "metadata": {
    "collapsed": true
   },
   "outputs": [],
   "source": [
    "\n",
    "for i, batch in enumerate(train_loader):\n",
    "        b = batch\n",
    "        break"
   ]
  },
  {
   "cell_type": "code",
   "execution_count": 6,
   "metadata": {},
   "outputs": [
    {
     "data": {
      "text/plain": [
       "[tensor([[ 1.8267e+04,  7.8100e+02,  6.0000e+02,  ...,  0.0000e+00,\n",
       "           0.0000e+00,  0.0000e+00],\n",
       "         [ 7.3900e+02,  1.9347e+04,  3.3220e+03,  ...,  0.0000e+00,\n",
       "           0.0000e+00,  0.0000e+00],\n",
       "         [ 7.8100e+02,  4.7590e+03,  4.3900e+02,  ...,  0.0000e+00,\n",
       "           0.0000e+00,  0.0000e+00],\n",
       "         ...,\n",
       "         [ 2.0000e+01,  2.4120e+03,  4.3900e+02,  ...,  0.0000e+00,\n",
       "           0.0000e+00,  0.0000e+00],\n",
       "         [ 7.3680e+03,  4.1330e+03,  4.2770e+03,  ...,  0.0000e+00,\n",
       "           0.0000e+00,  0.0000e+00],\n",
       "         [ 8.0000e+00,  4.2140e+03,  7.8800e+02,  ...,  0.0000e+00,\n",
       "           0.0000e+00,  0.0000e+00]]),\n",
       " tensor([[  6,   9,   3,  ...,   0,   0,   0],\n",
       "         [  9,   3,   6,  ...,   0,   0,   0],\n",
       "         [  9,  14,   4,  ...,   0,   0,   0],\n",
       "         ...,\n",
       "         [  9,   3,   4,  ...,   0,   0,   0],\n",
       "         [  9,   3,   6,  ...,   0,   0,   0],\n",
       "         [  6,  12,  12,  ...,   0,   0,   0]]),\n",
       " tensor([[ 0,  0,  0,  ...,  0,  0,  0],\n",
       "         [ 0,  0,  0,  ...,  0,  0,  0],\n",
       "         [ 0,  0,  0,  ...,  0,  0,  0],\n",
       "         ...,\n",
       "         [ 1,  1,  1,  ...,  0,  0,  0],\n",
       "         [ 1,  1,  1,  ...,  0,  0,  0],\n",
       "         [ 0,  0,  0,  ...,  0,  0,  0]]),\n",
       " tensor([[ 1.0700e+03,  6.2800e+02,  2.3150e+03,  ...,  0.0000e+00,\n",
       "           0.0000e+00,  0.0000e+00],\n",
       "         [ 4.0400e+02,  5.5600e+03,  1.1200e+02,  ...,  0.0000e+00,\n",
       "           0.0000e+00,  0.0000e+00],\n",
       "         [ 3.2670e+03,  1.2200e+02,  1.5000e+01,  ...,  0.0000e+00,\n",
       "           0.0000e+00,  0.0000e+00],\n",
       "         ...,\n",
       "         [ 2.0000e+01,  2.4120e+03,  4.3900e+02,  ...,  0.0000e+00,\n",
       "           0.0000e+00,  0.0000e+00],\n",
       "         [ 7.3680e+03,  4.1330e+03,  4.2770e+03,  ...,  0.0000e+00,\n",
       "           0.0000e+00,  0.0000e+00],\n",
       "         [ 1.9900e+02,  7.5000e+01,  5.6690e+03,  ...,  0.0000e+00,\n",
       "           0.0000e+00,  0.0000e+00]]),\n",
       " tensor([[  3,   6,   3,  ...,   0,   0,   0],\n",
       "         [  3,  20,   6,  ...,   0,   0,   0],\n",
       "         [  7,   8,   7,  ...,   0,   0,   0],\n",
       "         ...,\n",
       "         [  9,   3,   4,  ...,   0,   0,   0],\n",
       "         [  9,   3,   6,  ...,   0,   0,   0],\n",
       "         [  9,   4,  32,  ...,   0,   0,   0]]),\n",
       " tensor([[ 1,  1,  1,  ...,  0,  0,  0],\n",
       "         [ 0,  0,  0,  ...,  0,  0,  0],\n",
       "         [ 1,  1,  1,  ...,  0,  0,  0],\n",
       "         ...,\n",
       "         [ 1,  1,  1,  ...,  0,  0,  0],\n",
       "         [ 1,  1,  1,  ...,  0,  0,  0],\n",
       "         [ 1,  1,  1,  ...,  0,  0,  0]]),\n",
       " tensor([ 162,    0,  196,  443,  163,    3,   24,    7,  173,   47,\n",
       "          134,   70,    6,   31,  163,   67,   32,   55,   54,  118,\n",
       "          135,  107,  140,   31,  280,  184,  155,  138,   72,    9,\n",
       "            4,  108]),\n",
       " tensor([ 164,    5,  197,  446,  164,   10,   26,   10,  179,   57,\n",
       "          140,   71,    6,   34,  164,   73,   57,   57,   59,  118,\n",
       "          142,  157,  191,   35,  280,  189,  158,  158,   73,    9,\n",
       "           10,  114])]"
      ]
     },
     "execution_count": 6,
     "metadata": {},
     "output_type": "execute_result"
    }
   ],
   "source": [
    "b"
   ]
  },
  {
   "cell_type": "code",
   "execution_count": null,
   "metadata": {
    "collapsed": true
   },
   "outputs": [],
   "source": []
  },
  {
   "cell_type": "code",
   "execution_count": null,
   "metadata": {
    "collapsed": true
   },
   "outputs": [],
   "source": []
  },
  {
   "cell_type": "code",
   "execution_count": null,
   "metadata": {
    "collapsed": true
   },
   "outputs": [],
   "source": []
  },
  {
   "cell_type": "code",
   "execution_count": null,
   "metadata": {
    "collapsed": true
   },
   "outputs": [],
   "source": []
  },
  {
   "cell_type": "code",
   "execution_count": null,
   "metadata": {
    "collapsed": true
   },
   "outputs": [],
   "source": []
  },
  {
   "cell_type": "code",
   "execution_count": null,
   "metadata": {
    "collapsed": true
   },
   "outputs": [],
   "source": []
  },
  {
   "cell_type": "code",
   "execution_count": null,
   "metadata": {
    "collapsed": true
   },
   "outputs": [],
   "source": []
  },
  {
   "cell_type": "code",
   "execution_count": null,
   "metadata": {
    "collapsed": true
   },
   "outputs": [],
   "source": []
  },
  {
   "cell_type": "code",
   "execution_count": null,
   "metadata": {
    "collapsed": true
   },
   "outputs": [],
   "source": []
  },
  {
   "cell_type": "code",
   "execution_count": null,
   "metadata": {
    "collapsed": true
   },
   "outputs": [],
   "source": []
  },
  {
   "cell_type": "code",
   "execution_count": null,
   "metadata": {
    "collapsed": true
   },
   "outputs": [],
   "source": []
  },
  {
   "cell_type": "code",
   "execution_count": null,
   "metadata": {
    "collapsed": true
   },
   "outputs": [],
   "source": []
  }
 ],
 "metadata": {
  "kernelspec": {
   "display_name": "Python 3",
   "language": "python",
   "name": "python3"
  },
  "language_info": {
   "codemirror_mode": {
    "name": "ipython",
    "version": 3
   },
   "file_extension": ".py",
   "mimetype": "text/x-python",
   "name": "python",
   "nbconvert_exporter": "python",
   "pygments_lexer": "ipython3",
   "version": "3.6.2"
  }
 },
 "nbformat": 4,
 "nbformat_minor": 1
}
